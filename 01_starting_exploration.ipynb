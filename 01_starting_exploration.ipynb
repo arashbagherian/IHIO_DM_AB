{
 "cells": [
  {
   "cell_type": "code",
   "execution_count": 1,
   "metadata": {},
   "outputs": [],
   "source": [
    "import pandas as pd\n",
    "import numpy as np\n",
    "import matplotlib.pyplot as plt\n",
    "import seaborn as sns"
   ]
  },
  {
   "cell_type": "code",
   "execution_count": 2,
   "metadata": {},
   "outputs": [],
   "source": [
    "P = '1'\n",
    "location = '..\\\\IHIO_share_A\\\\prescription\\\\part' + P + '.pkl'"
   ]
  },
  {
   "cell_type": "code",
   "execution_count": 3,
   "metadata": {},
   "outputs": [],
   "source": [
    "part = pd.read_pickle(location)"
   ]
  },
  {
   "cell_type": "code",
   "execution_count": 4,
   "metadata": {},
   "outputs": [],
   "source": [
    "part['date'] = pd.to_datetime(part['date'])"
   ]
  },
  {
   "cell_type": "code",
   "execution_count": 5,
   "metadata": {},
   "outputs": [],
   "source": [
    "service = pd.read_pickle(r'../IHIO_share_A/service.pkl')\n",
    "service.set_index('service', inplace=True)"
   ]
  },
  {
   "cell_type": "code",
   "execution_count": 6,
   "metadata": {},
   "outputs": [
    {
     "data": {
      "text/plain": [
       "(52,)"
      ]
     },
     "execution_count": 6,
     "metadata": {},
     "output_type": "execute_result"
    }
   ],
   "source": [
    "dm_filt = service['atc_3'].isin(['A10A', 'A10B'])\n",
    "dm_service_codes = service.loc[dm_filt].index\n",
    "dm_service_codes.shape"
   ]
  },
  {
   "cell_type": "code",
   "execution_count": null,
   "metadata": {},
   "outputs": [],
   "source": [
    "part"
   ]
  },
  {
   "cell_type": "code",
   "execution_count": 8,
   "metadata": {},
   "outputs": [],
   "source": [
    "is_dm_part = part['service'].isin(dm_service_codes)"
   ]
  },
  {
   "cell_type": "code",
   "execution_count": 9,
   "metadata": {},
   "outputs": [],
   "source": [
    "part_dm = part.loc[part['member'].isin(part.loc[is_dm_part, 'member'].unique())]"
   ]
  },
  {
   "cell_type": "code",
   "execution_count": null,
   "metadata": {},
   "outputs": [],
   "source": [
    "part_dm"
   ]
  },
  {
   "cell_type": "code",
   "execution_count": 11,
   "metadata": {},
   "outputs": [],
   "source": [
    "# Importing ab_service\n",
    "ab_service = pd.read_csv('.\\\\ab_service_final.csv', index_col=0)"
   ]
  },
  {
   "cell_type": "code",
   "execution_count": 12,
   "metadata": {},
   "outputs": [],
   "source": [
    "ddd = ab_service['calc_ddd']"
   ]
  },
  {
   "attachments": {},
   "cell_type": "markdown",
   "metadata": {},
   "source": [
    "## Calculating days of ab use for each member."
   ]
  },
  {
   "cell_type": "code",
   "execution_count": 13,
   "metadata": {},
   "outputs": [
    {
     "data": {
      "text/plain": [
       "(240528,)"
      ]
     },
     "execution_count": 13,
     "metadata": {},
     "output_type": "execute_result"
    }
   ],
   "source": [
    "part_dm['member'].unique().shape"
   ]
  },
  {
   "cell_type": "code",
   "execution_count": 14,
   "metadata": {},
   "outputs": [
    {
     "data": {
      "text/plain": [
       "(2798343,)"
      ]
     },
     "execution_count": 14,
     "metadata": {},
     "output_type": "execute_result"
    }
   ],
   "source": [
    "part['member'].unique().shape"
   ]
  },
  {
   "cell_type": "code",
   "execution_count": 15,
   "metadata": {},
   "outputs": [
    {
     "name": "stderr",
     "output_type": "stream",
     "text": [
      "C:\\Users\\a.bagherian\\AppData\\Local\\Temp\\ipykernel_6524\\3359435875.py:4: SettingWithCopyWarning: \n",
      "A value is trying to be set on a copy of a slice from a DataFrame.\n",
      "Try using .loc[row_indexer,col_indexer] = value instead\n",
      "\n",
      "See the caveats in the documentation: https://pandas.pydata.org/pandas-docs/stable/user_guide/indexing.html#returning-a-view-versus-a-copy\n",
      "  part_dm_ab.loc[:, 'days'] = part_dm_ab['quantity'] * ddd[part_dm_ab['service']].values\n"
     ]
    }
   ],
   "source": [
    "# ab_mask is the services of part_dm that are ab\n",
    "ab_mask = part_dm['service'].isin(ddd.index)\n",
    "part_dm_ab = part_dm.loc[ab_mask]\n",
    "part_dm_ab.loc[:, 'days'] = part_dm_ab['quantity'] * ddd[part_dm_ab['service']].values"
   ]
  },
  {
   "cell_type": "code",
   "execution_count": null,
   "metadata": {},
   "outputs": [],
   "source": [
    "part_dm_ab"
   ]
  },
  {
   "cell_type": "code",
   "execution_count": 17,
   "metadata": {},
   "outputs": [
    {
     "data": {
      "text/plain": [
       "196745"
      ]
     },
     "execution_count": 17,
     "metadata": {},
     "output_type": "execute_result"
    }
   ],
   "source": [
    "part_dm_ab['member'].nunique()"
   ]
  },
  {
   "cell_type": "code",
   "execution_count": 18,
   "metadata": {},
   "outputs": [
    {
     "data": {
      "text/plain": [
       "1198457"
      ]
     },
     "execution_count": 18,
     "metadata": {},
     "output_type": "execute_result"
    }
   ],
   "source": [
    "ab_mask.sum()"
   ]
  },
  {
   "cell_type": "code",
   "execution_count": 19,
   "metadata": {},
   "outputs": [
    {
     "data": {
      "text/plain": [
       "count    1.198457e+06\n",
       "mean     8.152347e+00\n",
       "std      9.851592e+00\n",
       "min      3.300000e-03\n",
       "25%      4.000000e+00\n",
       "50%      6.666000e+00\n",
       "75%      1.000000e+01\n",
       "max      5.510250e+03\n",
       "Name: days, dtype: float64"
      ]
     },
     "execution_count": 19,
     "metadata": {},
     "output_type": "execute_result"
    }
   ],
   "source": [
    "part_dm_ab['days'].describe()"
   ]
  },
  {
   "cell_type": "code",
   "execution_count": 20,
   "metadata": {},
   "outputs": [
    {
     "data": {
      "text/plain": [
       "count    196745.000000\n",
       "mean         49.659395\n",
       "std          71.241458\n",
       "min           0.003300\n",
       "25%          14.666500\n",
       "50%          30.167300\n",
       "75%          60.165600\n",
       "max        6557.741000\n",
       "Name: days, dtype: float64"
      ]
     },
     "execution_count": 20,
     "metadata": {},
     "output_type": "execute_result"
    }
   ],
   "source": [
    "# Calculating sum of days for each member.\n",
    "part_dm_ab.groupby('member')['days'].sum().describe()"
   ]
  },
  {
   "cell_type": "code",
   "execution_count": 21,
   "metadata": {},
   "outputs": [],
   "source": [
    "# sns.histplot(x=np.log10(part_dm_ab['days']), bins=20)\n",
    "# plt.gca().set_title('log10 days for members in part1')\n",
    "# plt.xticks(np.arange(-2.5, 4, 0.5))"
   ]
  },
  {
   "cell_type": "code",
   "execution_count": 22,
   "metadata": {},
   "outputs": [],
   "source": [
    "# The sum of days for each dm patient.\n",
    "# sns.histplot(x=np.log10(part_dm_ab.groupby('member')['days'].sum()), bins=20)"
   ]
  },
  {
   "cell_type": "code",
   "execution_count": 23,
   "metadata": {},
   "outputs": [],
   "source": [
    "# sns.kdeplot(x=np.log10(part_dm_ab['days']), bw_adjust=2)"
   ]
  },
  {
   "cell_type": "code",
   "execution_count": 24,
   "metadata": {},
   "outputs": [],
   "source": [
    "# Non-dm patients\n",
    "part_n = part.loc[~ part['member'].isin(part_dm['member'].unique())]"
   ]
  },
  {
   "cell_type": "code",
   "execution_count": null,
   "metadata": {},
   "outputs": [],
   "source": [
    "part_n"
   ]
  },
  {
   "cell_type": "code",
   "execution_count": 26,
   "metadata": {},
   "outputs": [
    {
     "name": "stderr",
     "output_type": "stream",
     "text": [
      "C:\\Users\\a.bagherian\\AppData\\Local\\Temp\\ipykernel_6524\\2405128522.py:5: SettingWithCopyWarning: \n",
      "A value is trying to be set on a copy of a slice from a DataFrame.\n",
      "Try using .loc[row_indexer,col_indexer] = value instead\n",
      "\n",
      "See the caveats in the documentation: https://pandas.pydata.org/pandas-docs/stable/user_guide/indexing.html#returning-a-view-versus-a-copy\n",
      "  part_n_ab.loc[:, 'days'] = part_n_ab['quantity'] * ddd[part_n_ab['service']].values\n"
     ]
    }
   ],
   "source": [
    "# Calculating the same statisitics for non-dm patients\n",
    "# ab_mask_n is the services of part_n that are ab\n",
    "ab_mask_n = part_n['service'].isin(ddd.index)\n",
    "part_n_ab = part_n.loc[ab_mask_n]\n",
    "part_n_ab.loc[:, 'days'] = part_n_ab['quantity'] * ddd[part_n_ab['service']].values"
   ]
  },
  {
   "cell_type": "code",
   "execution_count": null,
   "metadata": {},
   "outputs": [],
   "source": [
    "part_n_ab"
   ]
  },
  {
   "cell_type": "code",
   "execution_count": 28,
   "metadata": {},
   "outputs": [
    {
     "data": {
      "text/plain": [
       "1977377"
      ]
     },
     "execution_count": 28,
     "metadata": {},
     "output_type": "execute_result"
    }
   ],
   "source": [
    "part_n_ab['member'].nunique()"
   ]
  },
  {
   "cell_type": "code",
   "execution_count": 29,
   "metadata": {},
   "outputs": [
    {
     "data": {
      "text/plain": [
       "count    7.972790e+06\n",
       "mean     5.660123e+00\n",
       "std      8.526797e+00\n",
       "min      8.000000e-04\n",
       "25%      6.666000e-01\n",
       "50%      4.999800e+00\n",
       "75%      9.999000e+00\n",
       "max      6.612300e+03\n",
       "Name: days, dtype: float64"
      ]
     },
     "execution_count": 29,
     "metadata": {},
     "output_type": "execute_result"
    }
   ],
   "source": [
    "part_n_ab['days'].describe()"
   ]
  },
  {
   "cell_type": "code",
   "execution_count": 30,
   "metadata": {},
   "outputs": [
    {
     "data": {
      "text/plain": [
       "count    1.977377e+06\n",
       "mean     2.282163e+01\n",
       "std      3.793342e+01\n",
       "min      8.000000e-04\n",
       "25%      5.000000e+00\n",
       "50%      1.166600e+01\n",
       "75%      2.799880e+01\n",
       "max      8.304149e+03\n",
       "Name: days, dtype: float64"
      ]
     },
     "execution_count": 30,
     "metadata": {},
     "output_type": "execute_result"
    }
   ],
   "source": [
    "part_n_ab.groupby('member')['days'].sum().describe()"
   ]
  },
  {
   "cell_type": "code",
   "execution_count": 31,
   "metadata": {},
   "outputs": [],
   "source": [
    "# sns.histplot(x=np.log10(part_n_ab['days']), bins=20)\n",
    "# plt.gca().set_title('non-dm log10 days for members in part1')\n",
    "# plt.xticks(np.arange(-2.5, 4, 0.5))"
   ]
  },
  {
   "cell_type": "code",
   "execution_count": 32,
   "metadata": {},
   "outputs": [],
   "source": [
    "# The sum of days for each non-dm patient.\n",
    "# sns.histplot(x=np.log10(part_n_ab.groupby('member')['days'].sum()), bins=20)"
   ]
  },
  {
   "cell_type": "code",
   "execution_count": 33,
   "metadata": {},
   "outputs": [
    {
     "data": {
      "text/plain": [
       "min   2014-03-21\n",
       "max   2017-03-20\n",
       "Name: date, dtype: datetime64[ns]"
      ]
     },
     "execution_count": 33,
     "metadata": {},
     "output_type": "execute_result"
    }
   ],
   "source": [
    "part['date'].agg([min, max])"
   ]
  },
  {
   "cell_type": "code",
   "execution_count": 34,
   "metadata": {},
   "outputs": [
    {
     "data": {
      "text/plain": [
       "1     5.192483e-01\n",
       "2     2.035421e-02\n",
       "3     1.747432e-01\n",
       "4     3.391909e-02\n",
       "6     3.165925e-07\n",
       "9     2.517248e-01\n",
       "12    4.748888e-07\n",
       "13    9.656072e-06\n",
       "Name: fund, dtype: float64"
      ]
     },
     "execution_count": 34,
     "metadata": {},
     "output_type": "execute_result"
    }
   ],
   "source": [
    "fund_dm_weights = part_dm['fund'].value_counts(normalize=True).sort_index()\n",
    "fund_dm_weights"
   ]
  },
  {
   "cell_type": "code",
   "execution_count": 35,
   "metadata": {},
   "outputs": [
    {
     "data": {
      "text/plain": [
       "1     3.532387e-01\n",
       "2     2.604431e-02\n",
       "3     9.575230e-02\n",
       "4     6.887149e-02\n",
       "6     2.276317e-07\n",
       "9     4.560845e-01\n",
       "10    1.448565e-07\n",
       "11    7.242825e-07\n",
       "12    3.724882e-07\n",
       "13    7.180744e-06\n",
       "Name: fund, dtype: float64"
      ]
     },
     "execution_count": 35,
     "metadata": {},
     "output_type": "execute_result"
    }
   ],
   "source": [
    "part_n['fund'].value_counts(normalize=True).sort_index()"
   ]
  },
  {
   "cell_type": "code",
   "execution_count": 36,
   "metadata": {},
   "outputs": [
    {
     "data": {
      "text/plain": [
       "1     5.192483e-01\n",
       "2     2.035421e-02\n",
       "3     1.747432e-01\n",
       "4     3.391909e-02\n",
       "6     3.165925e-07\n",
       "9     2.517248e-01\n",
       "10             NaN\n",
       "11             NaN\n",
       "12    4.748888e-07\n",
       "13    9.656072e-06\n",
       "dtype: float64"
      ]
     },
     "execution_count": 36,
     "metadata": {},
     "output_type": "execute_result"
    }
   ],
   "source": [
    "fund_cat = sorted(part_n['fund'].unique())\n",
    "fund_weights = pd.Series(index=fund_cat, dtype=float)\n",
    "fund_weights.loc[fund_dm_weights.index] = fund_dm_weights\n",
    "fund_weights"
   ]
  },
  {
   "cell_type": "code",
   "execution_count": 37,
   "metadata": {},
   "outputs": [],
   "source": [
    "test_weights = fund_weights.loc[part_n['fund']]"
   ]
  },
  {
   "cell_type": "code",
   "execution_count": 54,
   "metadata": {},
   "outputs": [
    {
     "data": {
      "text/plain": [
       "9     4.560845e-01\n",
       "1     3.532387e-01\n",
       "3     9.575230e-02\n",
       "4     6.887149e-02\n",
       "2     2.604431e-02\n",
       "13    7.180744e-06\n",
       "11    7.242825e-07\n",
       "12    3.724882e-07\n",
       "6     2.276317e-07\n",
       "10    1.448565e-07\n",
       "Name: fund, dtype: float64"
      ]
     },
     "execution_count": 54,
     "metadata": {},
     "output_type": "execute_result"
    }
   ],
   "source": [
    "df = part_n[['fund', 'prescription']]\n",
    "df['fund'].value_counts(normalize=True)"
   ]
  },
  {
   "cell_type": "code",
   "execution_count": null,
   "metadata": {},
   "outputs": [],
   "source": [
    "df['weight'] = test_weights.values\n",
    "df"
   ]
  },
  {
   "cell_type": "code",
   "execution_count": 52,
   "metadata": {},
   "outputs": [],
   "source": [
    "sam = df.sample(n=1000000, weights='weight')"
   ]
  },
  {
   "cell_type": "code",
   "execution_count": 53,
   "metadata": {},
   "outputs": [
    {
     "data": {
      "text/plain": [
       "1    0.575265\n",
       "2    0.001710\n",
       "3    0.053120\n",
       "4    0.007392\n",
       "9    0.362513\n",
       "Name: fund, dtype: float64"
      ]
     },
     "execution_count": 53,
     "metadata": {},
     "output_type": "execute_result"
    }
   ],
   "source": [
    "sam['fund'].value_counts(normalize=True).sort_index()"
   ]
  }
 ],
 "metadata": {
  "kernelspec": {
   "display_name": "base",
   "language": "python",
   "name": "python3"
  },
  "language_info": {
   "codemirror_mode": {
    "name": "ipython",
    "version": 3
   },
   "file_extension": ".py",
   "mimetype": "text/x-python",
   "name": "python",
   "nbconvert_exporter": "python",
   "pygments_lexer": "ipython3",
   "version": "3.11.4 | packaged by Anaconda, Inc. | (main, Jul  5 2023, 13:38:37) [MSC v.1916 64 bit (AMD64)]"
  },
  "orig_nbformat": 4,
  "vscode": {
   "interpreter": {
    "hash": "3c06e3e46abf38078fe4dac36a0085ec2b134ebbd73dd076183d243eeca6918f"
   }
  }
 },
 "nbformat": 4,
 "nbformat_minor": 2
}
