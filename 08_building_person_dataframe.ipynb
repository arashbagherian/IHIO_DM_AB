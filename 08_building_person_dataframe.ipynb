{
 "cells": [
  {
   "cell_type": "code",
   "execution_count": 4,
   "metadata": {},
   "outputs": [],
   "source": [
    "import pandas as pd\n",
    "import numpy as np\n",
    "from pathlib import Path\n",
    "import os"
   ]
  },
  {
   "attachments": {},
   "cell_type": "markdown",
   "metadata": {},
   "source": [
    "## Importing Data"
   ]
  },
  {
   "cell_type": "code",
   "execution_count": null,
   "metadata": {},
   "outputs": [],
   "source": [
    "member_cat = pd.read_pickle(r'C:\\Users\\a.bagherian\\Desktop\\working\\one_df_days\\member_cat.pkl')\n",
    "member_cat"
   ]
  },
  {
   "cell_type": "code",
   "execution_count": null,
   "metadata": {},
   "outputs": [],
   "source": [
    "profile = pd.read_pickle(r'C:\\Users\\a.bagherian\\Desktop\\IHIO_share_A\\profile.pkl')\n",
    "profile = profile[['member', 'gender', 'fund']].set_index('member')\n",
    "profile = profile.loc[member_cat.index]\n",
    "profile"
   ]
  },
  {
   "attachments": {},
   "cell_type": "markdown",
   "metadata": {},
   "source": [
    "## Buidling person_df"
   ]
  },
  {
   "cell_type": "code",
   "execution_count": null,
   "metadata": {},
   "outputs": [],
   "source": [
    "person_df = profile.copy()\n",
    "person_df['cat'] = member_cat['cat']\n",
    "person_df['part'] = member_cat['part']\n",
    "person_df"
   ]
  },
  {
   "cell_type": "code",
   "execution_count": null,
   "metadata": {},
   "outputs": [],
   "source": [
    "person_df.index.name = 'member'"
   ]
  },
  {
   "cell_type": "code",
   "execution_count": null,
   "metadata": {},
   "outputs": [],
   "source": [
    "person_df['member'] = person_df.index\n",
    "person_df"
   ]
  },
  {
   "cell_type": "code",
   "execution_count": null,
   "metadata": {},
   "outputs": [
    {
     "data": {
      "text/plain": [
       "['part1_dm_age_18_95.csv',\n",
       " 'part2_dm_age_18_95.csv',\n",
       " 'part3_dm_age_18_95.csv',\n",
       " 'part4_dm_age_18_95.csv',\n",
       " 'part5_dm_age_18_95.csv',\n",
       " 'part6_dm_age_18_95.csv',\n",
       " 'part7_dm_age_18_95.csv',\n",
       " 'part8_dm_age_18_95.csv']"
      ]
     },
     "execution_count": 27,
     "metadata": {},
     "output_type": "execute_result"
    }
   ],
   "source": [
    "ages_path = Path(r'C:\\Users\\a.bagherian\\Desktop\\working\\Ages\\dm_18_95')\n",
    "age_path_list = os.listdir(ages_path)\n",
    "age_path_list"
   ]
  },
  {
   "cell_type": "code",
   "execution_count": null,
   "metadata": {},
   "outputs": [],
   "source": [
    "for age_path in age_path_list:\n",
    "\n",
    "    age_df = pd.read_csv(ages_path / age_path, index_col='member')\n",
    "\n",
    "    person_df.loc[age_df.index, 'age'] = age_df['age']"
   ]
  },
  {
   "cell_type": "code",
   "execution_count": null,
   "metadata": {},
   "outputs": [],
   "source": [
    "person_df"
   ]
  },
  {
   "attachments": {},
   "cell_type": "markdown",
   "metadata": {},
   "source": [
    "### Determining the province for each member"
   ]
  },
  {
   "cell_type": "code",
   "execution_count": null,
   "metadata": {},
   "outputs": [
    {
     "data": {
      "text/plain": [
       "['part1_dm_combined_18_95.pkl',\n",
       " 'part2_dm_combined_18_95.pkl',\n",
       " 'part3_dm_combined_18_95.pkl',\n",
       " 'part4_dm_combined_18_95.pkl',\n",
       " 'part5_dm_combined_18_95.pkl',\n",
       " 'part6_dm_combined_18_95.pkl',\n",
       " 'part7_dm_combined_18_95.pkl',\n",
       " 'part8_dm_combined_18_95.pkl']"
      ]
     },
     "execution_count": 38,
     "metadata": {},
     "output_type": "execute_result"
    }
   ],
   "source": [
    "prescriptions_path = Path(r'C:\\Users\\a.bagherian\\Desktop\\working\\Diabetics Combined 18_95')\n",
    "prescriptions_path_list = os.listdir(prescriptions_path)\n",
    "prescriptions_path_list"
   ]
  },
  {
   "cell_type": "code",
   "execution_count": null,
   "metadata": {},
   "outputs": [
    {
     "name": "stdout",
     "output_type": "stream",
     "text": [
      "part part1_dm_combined_18_95.pkl\n",
      "part part2_dm_combined_18_95.pkl\n",
      "part part3_dm_combined_18_95.pkl\n",
      "part part4_dm_combined_18_95.pkl\n",
      "part part5_dm_combined_18_95.pkl\n",
      "part part6_dm_combined_18_95.pkl\n",
      "part part7_dm_combined_18_95.pkl\n",
      "part part8_dm_combined_18_95.pkl\n"
     ]
    }
   ],
   "source": [
    "from statistics import mode\n",
    "\n",
    "for part_loc in prescriptions_path_list:\n",
    "    print('part', part_loc)\n",
    "    part = pd.read_pickle(prescriptions_path / part_loc)\n",
    "    part = part[['member', 'province', 'prescription']]\n",
    "    provinces = part.groupby(['member', 'prescription'])['province'].apply(lambda g: g.iloc[0])\n",
    "    provinces = pd.DataFrame(provinces)\n",
    "    provinces = provinces.groupby('member')['province'].apply(mode)\n",
    "    \n",
    "    person_df.loc[provinces.index, 'province'] = provinces"
   ]
  },
  {
   "cell_type": "code",
   "execution_count": null,
   "metadata": {},
   "outputs": [],
   "source": [
    "person_df"
   ]
  },
  {
   "cell_type": "code",
   "execution_count": 45,
   "metadata": {},
   "outputs": [],
   "source": [
    "# person_df check_point_1\n",
    "destination = Path(r'C:\\Users\\a.bagherian\\Desktop\\working\\one_df_days')\n",
    "\n",
    "# person_df.to_pickle(destination / 'person_df_checkpoint_1.pkl')"
   ]
  },
  {
   "attachments": {},
   "cell_type": "markdown",
   "metadata": {},
   "source": [
    "### _"
   ]
  },
  {
   "attachments": {},
   "cell_type": "markdown",
   "metadata": {},
   "source": [
    "### Building age_cat"
   ]
  },
  {
   "cell_type": "code",
   "execution_count": 46,
   "metadata": {},
   "outputs": [],
   "source": [
    "bins = pd.IntervalIndex.from_tuples(\n",
    "    [\n",
    "        (18, 24),\n",
    "        (25, 34),\n",
    "        (35, 44),\n",
    "        (45, 54),\n",
    "        (55, 64),\n",
    "        (65, 74),\n",
    "        (75, 95)\n",
    "    ],\n",
    "    'both'\n",
    ")\n",
    "\n",
    "person_df['age_cat'] = pd.cut(person_df['age'], bins=bins)"
   ]
  },
  {
   "cell_type": "code",
   "execution_count": 6,
   "metadata": {},
   "outputs": [],
   "source": [
    "# person_df checkpoint_2\n",
    "destination = Path(r'C:\\Users\\a.bagherian\\Desktop\\working\\one_df_days')\n",
    "\n",
    "# person_df.to_pickle(destination / 'person_df_checkpoint_2.pkl')"
   ]
  },
  {
   "cell_type": "code",
   "execution_count": 52,
   "metadata": {},
   "outputs": [
    {
     "data": {
      "text/plain": [
       "[55, 64]    0.228305\n",
       "[45, 54]    0.212241\n",
       "[35, 44]    0.144670\n",
       "[65, 74]    0.132966\n",
       "[25, 34]    0.132187\n",
       "[75, 95]    0.088609\n",
       "[18, 24]    0.061022\n",
       "Name: age_cat, dtype: float64"
      ]
     },
     "execution_count": 52,
     "metadata": {},
     "output_type": "execute_result"
    }
   ],
   "source": [
    "person_df['age_cat'].value_counts(normalize=True)"
   ]
  },
  {
   "attachments": {},
   "cell_type": "markdown",
   "metadata": {},
   "source": [
    "### _"
   ]
  },
  {
   "cell_type": "code",
   "execution_count": 59,
   "metadata": {},
   "outputs": [
    {
     "data": {
      "text/html": [
       "<div>\n",
       "<style scoped>\n",
       "    .dataframe tbody tr th:only-of-type {\n",
       "        vertical-align: middle;\n",
       "    }\n",
       "\n",
       "    .dataframe tbody tr th {\n",
       "        vertical-align: top;\n",
       "    }\n",
       "\n",
       "    .dataframe thead th {\n",
       "        text-align: right;\n",
       "    }\n",
       "</style>\n",
       "<table border=\"1\" class=\"dataframe\">\n",
       "  <thead>\n",
       "    <tr style=\"text-align: right;\">\n",
       "      <th></th>\n",
       "      <th>province_id_iso</th>\n",
       "      <th>province_name_en</th>\n",
       "      <th>province_name_fa</th>\n",
       "    </tr>\n",
       "    <tr>\n",
       "      <th>province_id_ihio</th>\n",
       "      <th></th>\n",
       "      <th></th>\n",
       "      <th></th>\n",
       "    </tr>\n",
       "  </thead>\n",
       "  <tbody>\n",
       "    <tr>\n",
       "      <th>26</th>\n",
       "      <td>0</td>\n",
       "      <td>Markazi</td>\n",
       "      <td>مركزي</td>\n",
       "    </tr>\n",
       "    <tr>\n",
       "      <th>1</th>\n",
       "      <td>1</td>\n",
       "      <td>Gilan</td>\n",
       "      <td>گيلان</td>\n",
       "    </tr>\n",
       "    <tr>\n",
       "      <th>2</th>\n",
       "      <td>2</td>\n",
       "      <td>Mazandaran</td>\n",
       "      <td>مازندران</td>\n",
       "    </tr>\n",
       "    <tr>\n",
       "      <th>3</th>\n",
       "      <td>3</td>\n",
       "      <td>Azerbaijan, East</td>\n",
       "      <td>آذربايجان شرقي</td>\n",
       "    </tr>\n",
       "    <tr>\n",
       "      <th>4</th>\n",
       "      <td>4</td>\n",
       "      <td>Azerbaijan, West</td>\n",
       "      <td>آذربايجان غربي</td>\n",
       "    </tr>\n",
       "  </tbody>\n",
       "</table>\n",
       "</div>"
      ],
      "text/plain": [
       "                  province_id_iso  province_name_en province_name_fa\n",
       "province_id_ihio                                                    \n",
       "26                              0           Markazi            مركزي\n",
       "1                               1             Gilan            گيلان\n",
       "2                               2        Mazandaran         مازندران\n",
       "3                               3  Azerbaijan, East   آذربايجان شرقي\n",
       "4                               4  Azerbaijan, West   آذربايجان غربي"
      ]
     },
     "execution_count": 59,
     "metadata": {},
     "output_type": "execute_result"
    }
   ],
   "source": [
    "province_id = pd.read_excel(r'C:\\Users\\a.bagherian\\Desktop\\IHIO_share_A\\Others\\Provinces and city\\province_id.xlsx').set_index('province_id_ihio')\n",
    "province_id.head()"
   ]
  },
  {
   "cell_type": "code",
   "execution_count": null,
   "metadata": {},
   "outputs": [],
   "source": [
    "person_df"
   ]
  },
  {
   "attachments": {},
   "cell_type": "markdown",
   "metadata": {},
   "source": [
    "## Changing age_cat to three groups"
   ]
  },
  {
   "cell_type": "code",
   "execution_count": null,
   "metadata": {},
   "outputs": [],
   "source": [
    "prev_df = pd.read_pickle(destination / 'person_df_checkpoint_2_final.pkl')\n",
    "prev_df"
   ]
  },
  {
   "cell_type": "code",
   "execution_count": null,
   "metadata": {},
   "outputs": [],
   "source": [
    "new_df = prev_df.drop('age_cat', axis=1)\n",
    "new_df"
   ]
  },
  {
   "cell_type": "code",
   "execution_count": 20,
   "metadata": {},
   "outputs": [],
   "source": [
    "# Building new age_cat\n",
    "new_bins = pd.IntervalIndex.from_tuples(\n",
    "    [\n",
    "        (18, 39),\n",
    "        (40, 64),\n",
    "        (65, 95)\n",
    "    ],\n",
    "    'both'\n",
    ")\n",
    "\n",
    "new_df['age_cat'] = pd.cut(new_df['age'], bins=new_bins)"
   ]
  },
  {
   "cell_type": "code",
   "execution_count": null,
   "metadata": {},
   "outputs": [],
   "source": [
    "new_df"
   ]
  },
  {
   "cell_type": "code",
   "execution_count": 22,
   "metadata": {},
   "outputs": [],
   "source": [
    "# new_df['age_cat'].value_counts(normalize=True)"
   ]
  },
  {
   "cell_type": "code",
   "execution_count": 23,
   "metadata": {},
   "outputs": [],
   "source": [
    "# Saving new_df with three age_groups\n",
    "\n",
    "# new_df.to_pickle(r'E:\\after_session_03_22\\data\\person_df_3agegroups.pkl')"
   ]
  }
 ],
 "metadata": {
  "kernelspec": {
   "display_name": "base",
   "language": "python",
   "name": "python3"
  },
  "language_info": {
   "codemirror_mode": {
    "name": "ipython",
    "version": 3
   },
   "file_extension": ".py",
   "mimetype": "text/x-python",
   "name": "python",
   "nbconvert_exporter": "python",
   "pygments_lexer": "ipython3",
   "version": "3.11.4 | packaged by Anaconda, Inc. | (main, Jul  5 2023, 13:38:37) [MSC v.1916 64 bit (AMD64)]"
  },
  "orig_nbformat": 4,
  "vscode": {
   "interpreter": {
    "hash": "3c06e3e46abf38078fe4dac36a0085ec2b134ebbd73dd076183d243eeca6918f"
   }
  }
 },
 "nbformat": 4,
 "nbformat_minor": 2
}
