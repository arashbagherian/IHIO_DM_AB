{
 "cells": [
  {
   "cell_type": "code",
   "execution_count": 3,
   "metadata": {},
   "outputs": [],
   "source": [
    "import pandas as pd\n",
    "import numpy as np\n",
    "import matplotlib.pyplot as plt\n",
    "import seaborn as sns\n",
    "import os\n",
    "from pathlib import Path"
   ]
  },
  {
   "cell_type": "code",
   "execution_count": 4,
   "metadata": {},
   "outputs": [],
   "source": [
    "parts_path = Path(r'C:\\Users\\a.bagherian\\Desktop\\working\\Diabetics Combined 18_95')"
   ]
  },
  {
   "cell_type": "code",
   "execution_count": 5,
   "metadata": {},
   "outputs": [],
   "source": [
    "destination_path = Path(r'C:\\Users\\a.bagherian\\Desktop\\working\\one_df_days')"
   ]
  },
  {
   "attachments": {},
   "cell_type": "markdown",
   "metadata": {},
   "source": [
    "## Bulding one_day_df"
   ]
  },
  {
   "cell_type": "code",
   "execution_count": 4,
   "metadata": {},
   "outputs": [],
   "source": [
    "# cols = ['member', 'service', 'prescription', 'days']"
   ]
  },
  {
   "cell_type": "code",
   "execution_count": 5,
   "metadata": {},
   "outputs": [
    {
     "data": {
      "text/html": [
       "<div>\n",
       "<style scoped>\n",
       "    .dataframe tbody tr th:only-of-type {\n",
       "        vertical-align: middle;\n",
       "    }\n",
       "\n",
       "    .dataframe tbody tr th {\n",
       "        vertical-align: top;\n",
       "    }\n",
       "\n",
       "    .dataframe thead th {\n",
       "        text-align: right;\n",
       "    }\n",
       "</style>\n",
       "<table border=\"1\" class=\"dataframe\">\n",
       "  <thead>\n",
       "    <tr style=\"text-align: right;\">\n",
       "      <th></th>\n",
       "      <th>days</th>\n",
       "      <th>part</th>\n",
       "    </tr>\n",
       "  </thead>\n",
       "  <tbody>\n",
       "  </tbody>\n",
       "</table>\n",
       "</div>"
      ],
      "text/plain": [
       "Empty DataFrame\n",
       "Columns: [days, part]\n",
       "Index: []"
      ]
     },
     "execution_count": 5,
     "metadata": {},
     "output_type": "execute_result"
    }
   ],
   "source": [
    "# df = pd.DataFrame(columns=cols)\n",
    "# df"
   ]
  },
  {
   "cell_type": "code",
   "execution_count": 6,
   "metadata": {},
   "outputs": [],
   "source": [
    "# df = pd.DataFrame(columns=['days', 'part'])\n",
    "# df\n",
    "\n",
    "# for i, pickle_name in enumerate(os.listdir(parts_path)):\n",
    "#     part_number = i + 1\n",
    "#     pickle_path = parts_path / pickle_name\n",
    "    \n",
    "#     # Importing\n",
    "#     part = pd.read_pickle(pickle_path)\n",
    "\n",
    "#     # # Filtering for ab rows\n",
    "#     # part = part.loc[part['ab']]\n",
    "\n",
    "#     # # Filtering for columns\n",
    "#     # part = part[cols]\n",
    "\n",
    "#     # computing member_days\n",
    "#     member_days = pd.DataFrame(part.groupby('member')['days'].sum())\n",
    "#     member_days['part'] = part_number\n",
    "\n",
    "#     df = pd.concat(\n",
    "#         [df, member_days],\n",
    "#         axis=0\n",
    "#     )"
   ]
  },
  {
   "cell_type": "code",
   "execution_count": 7,
   "metadata": {},
   "outputs": [],
   "source": [
    "member_days_path = destination_path / 'member_days_18_95.pickle'\n",
    "# df.to_pickle(member_days_path)"
   ]
  },
  {
   "attachments": {},
   "cell_type": "markdown",
   "metadata": {},
   "source": [
    "## _"
   ]
  },
  {
   "cell_type": "code",
   "execution_count": null,
   "metadata": {},
   "outputs": [],
   "source": [
    "member_days = pd.read_pickle(member_days_path)\n",
    "member_days"
   ]
  },
  {
   "cell_type": "code",
   "execution_count": 9,
   "metadata": {},
   "outputs": [],
   "source": [
    "# This file contains the days of each ab service for all diabetics. so the members of\n",
    "# dm that didn't receive ab aren't here.\n",
    "one_df_days_path = destination_path / 'one_df_days_18_95.pickle'\n",
    "one_df_days = pd.read_pickle(one_df_days_path)"
   ]
  },
  {
   "cell_type": "code",
   "execution_count": null,
   "metadata": {},
   "outputs": [],
   "source": [
    "one_df_days"
   ]
  },
  {
   "cell_type": "code",
   "execution_count": 13,
   "metadata": {},
   "outputs": [
    {
     "data": {
      "text/plain": [
       "count                      9565821\n",
       "mean     7 days 23:58:43.716211951\n",
       "std      9 days 00:20:43.045788499\n",
       "min         0 days 00:01:09.120000\n",
       "25%         4 days 23:59:16.800000\n",
       "50%         6 days 15:59:02.400000\n",
       "75%               10 days 00:00:00\n",
       "max             7347 days 00:00:00\n",
       "Name: days, dtype: object"
      ]
     },
     "execution_count": 13,
     "metadata": {},
     "output_type": "execute_result"
    }
   ],
   "source": [
    "# Bye prescription\n",
    "one_df_days['days'].describe()"
   ]
  },
  {
   "cell_type": "code",
   "execution_count": 15,
   "metadata": {},
   "outputs": [
    {
     "data": {
      "text/html": [
       "<div>\n",
       "<style scoped>\n",
       "    .dataframe tbody tr th:only-of-type {\n",
       "        vertical-align: middle;\n",
       "    }\n",
       "\n",
       "    .dataframe tbody tr th {\n",
       "        vertical-align: top;\n",
       "    }\n",
       "\n",
       "    .dataframe thead th {\n",
       "        text-align: right;\n",
       "    }\n",
       "</style>\n",
       "<table border=\"1\" class=\"dataframe\">\n",
       "  <thead>\n",
       "    <tr style=\"text-align: right;\">\n",
       "      <th></th>\n",
       "      <th>days</th>\n",
       "    </tr>\n",
       "  </thead>\n",
       "  <tbody>\n",
       "    <tr>\n",
       "      <th>count</th>\n",
       "      <td>568060.666667</td>\n",
       "    </tr>\n",
       "    <tr>\n",
       "      <th>mean</th>\n",
       "      <td>14 days 23:12:05.921632455</td>\n",
       "    </tr>\n",
       "    <tr>\n",
       "      <th>std</th>\n",
       "      <td>23 days 18:00:57.557665302</td>\n",
       "    </tr>\n",
       "    <tr>\n",
       "      <th>min</th>\n",
       "      <td>0 days 00:00:00</td>\n",
       "    </tr>\n",
       "    <tr>\n",
       "      <th>25%</th>\n",
       "      <td>2 days 08:00:00</td>\n",
       "    </tr>\n",
       "    <tr>\n",
       "      <th>50%</th>\n",
       "      <td>8 days 07:59:39.840000</td>\n",
       "    </tr>\n",
       "    <tr>\n",
       "      <th>75%</th>\n",
       "      <td>18 days 21:19:58.080000</td>\n",
       "    </tr>\n",
       "    <tr>\n",
       "      <th>max</th>\n",
       "      <td>2851 days 15:19:52.320000</td>\n",
       "    </tr>\n",
       "  </tbody>\n",
       "</table>\n",
       "</div>"
      ],
      "text/plain": [
       "                             days\n",
       "count               568060.666667\n",
       "mean   14 days 23:12:05.921632455\n",
       "std    23 days 18:00:57.557665302\n",
       "min               0 days 00:00:00\n",
       "25%               2 days 08:00:00\n",
       "50%        8 days 07:59:39.840000\n",
       "75%       18 days 21:19:58.080000\n",
       "max     2851 days 15:19:52.320000"
      ]
     },
     "execution_count": 15,
     "metadata": {},
     "output_type": "execute_result"
    }
   ],
   "source": [
    "# By member\n",
    "member_days.describe() / 3"
   ]
  },
  {
   "cell_type": "code",
   "execution_count": 20,
   "metadata": {},
   "outputs": [
    {
     "data": {
      "text/html": [
       "<div>\n",
       "<style scoped>\n",
       "    .dataframe tbody tr th:only-of-type {\n",
       "        vertical-align: middle;\n",
       "    }\n",
       "\n",
       "    .dataframe tbody tr th {\n",
       "        vertical-align: top;\n",
       "    }\n",
       "\n",
       "    .dataframe thead th {\n",
       "        text-align: right;\n",
       "    }\n",
       "</style>\n",
       "<table border=\"1\" class=\"dataframe\">\n",
       "  <thead>\n",
       "    <tr style=\"text-align: right;\">\n",
       "      <th></th>\n",
       "      <th>days</th>\n",
       "    </tr>\n",
       "  </thead>\n",
       "  <tbody>\n",
       "    <tr>\n",
       "      <th>count</th>\n",
       "      <td>1408300</td>\n",
       "    </tr>\n",
       "    <tr>\n",
       "      <th>mean</th>\n",
       "      <td>54 days 08:00:29.992287381</td>\n",
       "    </tr>\n",
       "    <tr>\n",
       "      <th>std</th>\n",
       "      <td>75 days 00:56:55.528132586</td>\n",
       "    </tr>\n",
       "    <tr>\n",
       "      <th>min</th>\n",
       "      <td>0 days 00:04:45.120000</td>\n",
       "    </tr>\n",
       "    <tr>\n",
       "      <th>25%</th>\n",
       "      <td>15 days 00:00:00</td>\n",
       "    </tr>\n",
       "    <tr>\n",
       "      <th>50%</th>\n",
       "      <td>33 days 07:55:12</td>\n",
       "    </tr>\n",
       "    <tr>\n",
       "      <th>75%</th>\n",
       "      <td>66 days 07:59:48.480000</td>\n",
       "    </tr>\n",
       "    <tr>\n",
       "      <th>max</th>\n",
       "      <td>8554 days 21:59:36.959999994</td>\n",
       "    </tr>\n",
       "  </tbody>\n",
       "</table>\n",
       "</div>"
      ],
      "text/plain": [
       "                               days\n",
       "count                       1408300\n",
       "mean     54 days 08:00:29.992287381\n",
       "std      75 days 00:56:55.528132586\n",
       "min          0 days 00:04:45.120000\n",
       "25%                15 days 00:00:00\n",
       "50%                33 days 07:55:12\n",
       "75%         66 days 07:59:48.480000\n",
       "max    8554 days 21:59:36.959999994"
      ]
     },
     "execution_count": 20,
     "metadata": {},
     "output_type": "execute_result"
    }
   ],
   "source": [
    "member_days.loc[member_days['days'] > pd.Timedelta(0, 'day')].describe()"
   ]
  },
  {
   "attachments": {},
   "cell_type": "markdown",
   "metadata": {},
   "source": [
    "## Looking for outliers"
   ]
  },
  {
   "cell_type": "code",
   "execution_count": 45,
   "metadata": {},
   "outputs": [
    {
     "data": {
      "text/plain": [
       "Timedelta('30 days 00:00:00')"
      ]
     },
     "execution_count": 45,
     "metadata": {},
     "output_type": "execute_result"
    }
   ],
   "source": [
    "one_df_days['days'].quantile(0.99)"
   ]
  },
  {
   "cell_type": "code",
   "execution_count": 42,
   "metadata": {},
   "outputs": [
    {
     "data": {
      "text/html": [
       "<div>\n",
       "<style scoped>\n",
       "    .dataframe tbody tr th:only-of-type {\n",
       "        vertical-align: middle;\n",
       "    }\n",
       "\n",
       "    .dataframe tbody tr th {\n",
       "        vertical-align: top;\n",
       "    }\n",
       "\n",
       "    .dataframe thead th {\n",
       "        text-align: right;\n",
       "    }\n",
       "</style>\n",
       "<table border=\"1\" class=\"dataframe\">\n",
       "  <thead>\n",
       "    <tr style=\"text-align: right;\">\n",
       "      <th></th>\n",
       "      <th>days</th>\n",
       "    </tr>\n",
       "  </thead>\n",
       "  <tbody>\n",
       "    <tr>\n",
       "      <th>count</th>\n",
       "      <td>80010</td>\n",
       "    </tr>\n",
       "    <tr>\n",
       "      <th>mean</th>\n",
       "      <td>58 days 08:26:08.683410574</td>\n",
       "    </tr>\n",
       "    <tr>\n",
       "      <th>std</th>\n",
       "      <td>61 days 07:05:30.170056675</td>\n",
       "    </tr>\n",
       "    <tr>\n",
       "      <th>min</th>\n",
       "      <td>30 days 00:00:51.839999999</td>\n",
       "    </tr>\n",
       "    <tr>\n",
       "      <th>25%</th>\n",
       "      <td>40 days 00:00:00</td>\n",
       "    </tr>\n",
       "    <tr>\n",
       "      <th>50%</th>\n",
       "      <td>50 days 00:00:00</td>\n",
       "    </tr>\n",
       "    <tr>\n",
       "      <th>75%</th>\n",
       "      <td>60 days 00:00:00</td>\n",
       "    </tr>\n",
       "    <tr>\n",
       "      <th>max</th>\n",
       "      <td>7347 days 00:00:00</td>\n",
       "    </tr>\n",
       "  </tbody>\n",
       "</table>\n",
       "</div>"
      ],
      "text/plain": [
       "                             days\n",
       "count                       80010\n",
       "mean   58 days 08:26:08.683410574\n",
       "std    61 days 07:05:30.170056675\n",
       "min    30 days 00:00:51.839999999\n",
       "25%              40 days 00:00:00\n",
       "50%              50 days 00:00:00\n",
       "75%              60 days 00:00:00\n",
       "max            7347 days 00:00:00"
      ]
     },
     "execution_count": 42,
     "metadata": {},
     "output_type": "execute_result"
    }
   ],
   "source": [
    "one_df_days.loc[one_df_days['days'] > one_df_days['days'].quantile(0.99)].describe()"
   ]
  },
  {
   "cell_type": "code",
   "execution_count": null,
   "metadata": {},
   "outputs": [],
   "source": [
    "limit = pd.Timedelta(30, 'day')\n",
    "print(limit)\n",
    "outliers = one_df_days.loc[one_df_days['days'] > limit]\n",
    "outliers"
   ]
  },
  {
   "cell_type": "code",
   "execution_count": null,
   "metadata": {},
   "outputs": [],
   "source": [
    "outliers['part'] = member_days.loc[outliers['member'], 'part'].values\n",
    "outliers"
   ]
  },
  {
   "cell_type": "code",
   "execution_count": 76,
   "metadata": {},
   "outputs": [],
   "source": [
    "# Saving outlier prescriptions\n",
    "# outliers.to_pickle(r'C:\\Users\\a.bagherian\\Desktop\\working\\one_df_days\\outlier_ab_prescriptions.pkl')"
   ]
  },
  {
   "attachments": {},
   "cell_type": "markdown",
   "metadata": {},
   "source": [
    "## Checking if the reason of outliers are ddds"
   ]
  },
  {
   "cell_type": "code",
   "execution_count": null,
   "metadata": {},
   "outputs": [],
   "source": [
    "ab_service = pd.read_csv(r'C:\\Users\\a.bagherian\\Desktop\\working\\ab_service_final.csv',\n",
    "                         index_col=0)\n",
    "ab_service"
   ]
  },
  {
   "cell_type": "code",
   "execution_count": 65,
   "metadata": {},
   "outputs": [],
   "source": [
    "temp = ab_service.loc[outliers['service'].unique()]\n",
    "out_serv = temp.loc[temp['recheck'] == 1].index"
   ]
  },
  {
   "cell_type": "code",
   "execution_count": 67,
   "metadata": {},
   "outputs": [
    {
     "data": {
      "text/plain": [
       "Int64Index([240, 968, 5648], dtype='int64')"
      ]
     },
     "execution_count": 67,
     "metadata": {},
     "output_type": "execute_result"
    }
   ],
   "source": [
    "out_serv"
   ]
  },
  {
   "cell_type": "code",
   "execution_count": null,
   "metadata": {},
   "outputs": [],
   "source": [
    "outliers.loc[outliers['service'].isin(out_serv)]"
   ]
  },
  {
   "attachments": {},
   "cell_type": "markdown",
   "metadata": {},
   "source": [
    "## _"
   ]
  },
  {
   "attachments": {},
   "cell_type": "markdown",
   "metadata": {},
   "source": [
    "## Removing outlier ab prescriptions and computing the member_days again"
   ]
  },
  {
   "cell_type": "code",
   "execution_count": 83,
   "metadata": {},
   "outputs": [],
   "source": [
    "# df = pd.DataFrame(columns=['days', 'part'])\n",
    "# df\n",
    "\n",
    "# for i, pickle_name in enumerate(os.listdir(parts_path)):\n",
    "#     part_number = i + 1\n",
    "#     pickle_path = parts_path / pickle_name\n",
    "    \n",
    "#     # Importing\n",
    "#     part = pd.read_pickle(pickle_path)\n",
    "\n",
    "#     # Removing outliers\n",
    "#     part = part.drop(outliers.loc[outliers['part'] == part_number].index, axis=0)\n",
    "\n",
    "#     # # Filtering for ab rows\n",
    "#     # part = part.loc[part['ab']]\n",
    "\n",
    "#     # # Filtering for columns\n",
    "#     # part = part[cols]\n",
    "\n",
    "#     # computing member_days\n",
    "#     member_days = pd.DataFrame(part.groupby('member')['days'].sum())\n",
    "#     member_days['part'] = part_number\n",
    "\n",
    "#     df = pd.concat(\n",
    "#         [df, member_days],\n",
    "#         axis=0\n",
    "#     )"
   ]
  },
  {
   "cell_type": "code",
   "execution_count": 8,
   "metadata": {},
   "outputs": [],
   "source": [
    "member_days_outliers_removed_path = destination_path / 'member_days_18_95_outliers_removed.pickle'\n",
    "# df.to_pickle(member_days_outliers_removed_path)"
   ]
  },
  {
   "cell_type": "code",
   "execution_count": null,
   "metadata": {},
   "outputs": [],
   "source": [
    "days_final = pd.read_pickle(member_days_outliers_removed_path)\n",
    "days_final"
   ]
  },
  {
   "cell_type": "code",
   "execution_count": 11,
   "metadata": {},
   "outputs": [
    {
     "data": {
      "text/html": [
       "<div>\n",
       "<style scoped>\n",
       "    .dataframe tbody tr th:only-of-type {\n",
       "        vertical-align: middle;\n",
       "    }\n",
       "\n",
       "    .dataframe tbody tr th {\n",
       "        vertical-align: top;\n",
       "    }\n",
       "\n",
       "    .dataframe thead th {\n",
       "        text-align: right;\n",
       "    }\n",
       "</style>\n",
       "<table border=\"1\" class=\"dataframe\">\n",
       "  <thead>\n",
       "    <tr style=\"text-align: right;\">\n",
       "      <th></th>\n",
       "      <th>days</th>\n",
       "    </tr>\n",
       "  </thead>\n",
       "  <tbody>\n",
       "    <tr>\n",
       "      <th>count</th>\n",
       "      <td>468589.666667</td>\n",
       "    </tr>\n",
       "    <tr>\n",
       "      <th>mean</th>\n",
       "      <td>17 days 00:52:59.594508685</td>\n",
       "    </tr>\n",
       "    <tr>\n",
       "      <th>std</th>\n",
       "      <td>21 days 04:53:26.884135489</td>\n",
       "    </tr>\n",
       "    <tr>\n",
       "      <th>min</th>\n",
       "      <td>0 days 00:01:35.040000</td>\n",
       "    </tr>\n",
       "    <tr>\n",
       "      <th>25%</th>\n",
       "      <td>5 days 00:00:00</td>\n",
       "    </tr>\n",
       "    <tr>\n",
       "      <th>50%</th>\n",
       "      <td>10 days 17:59:02.400000</td>\n",
       "    </tr>\n",
       "    <tr>\n",
       "      <th>75%</th>\n",
       "      <td>21 days 05:19:03.360000</td>\n",
       "    </tr>\n",
       "    <tr>\n",
       "      <th>max</th>\n",
       "      <td>1853 days 07:42:08.640000</td>\n",
       "    </tr>\n",
       "  </tbody>\n",
       "</table>\n",
       "</div>"
      ],
      "text/plain": [
       "                             days\n",
       "count               468589.666667\n",
       "mean   17 days 00:52:59.594508685\n",
       "std    21 days 04:53:26.884135489\n",
       "min        0 days 00:01:35.040000\n",
       "25%               5 days 00:00:00\n",
       "50%       10 days 17:59:02.400000\n",
       "75%       21 days 05:19:03.360000\n",
       "max     1853 days 07:42:08.640000"
      ]
     },
     "execution_count": 11,
     "metadata": {},
     "output_type": "execute_result"
    }
   ],
   "source": [
    "days_final.loc[days_final['days'] > pd.Timedelta(0, 'day')].describe() / 3"
   ]
  },
  {
   "cell_type": "code",
   "execution_count": null,
   "metadata": {},
   "outputs": [],
   "source": [
    "num_days = (days_final['days'] / pd.Timedelta(1, 'day')) / 3\n",
    "num_days "
   ]
  },
  {
   "cell_type": "code",
   "execution_count": 130,
   "metadata": {},
   "outputs": [],
   "source": [
    "days_final.loc[num_days == 0, 'cat'] = 0\n",
    "days_final.loc[(0 < num_days) & (num_days <= 5), 'cat'] = 1\n",
    "days_final.loc[(5 < num_days) & (num_days <= 11), 'cat'] = 2\n",
    "days_final.loc[(11 < num_days) & (num_days <= 21), 'cat'] = 3\n",
    "days_final.loc[(21 < num_days), 'cat'] = 4"
   ]
  },
  {
   "cell_type": "code",
   "execution_count": 131,
   "metadata": {},
   "outputs": [
    {
     "data": {
      "text/plain": [
       "1.0    0.210216\n",
       "2.0    0.209374\n",
       "4.0    0.208825\n",
       "3.0    0.196480\n",
       "0.0    0.175106\n",
       "Name: cat, dtype: float64"
      ]
     },
     "execution_count": 131,
     "metadata": {},
     "output_type": "execute_result"
    }
   ],
   "source": [
    "days_final['cat'].value_counts(normalize=True, dropna=False)"
   ]
  },
  {
   "cell_type": "code",
   "execution_count": null,
   "metadata": {},
   "outputs": [],
   "source": [
    "days_final"
   ]
  },
  {
   "cell_type": "code",
   "execution_count": 133,
   "metadata": {},
   "outputs": [],
   "source": [
    "# Saving\n",
    "# The member_cat.pickle file contains categories based on ab with outliers removed. and is 18_95. The index is member.\n",
    "# days_final.to_pickle(destination_path / 'member_cat.pkl')"
   ]
  }
 ],
 "metadata": {
  "kernelspec": {
   "display_name": "base",
   "language": "python",
   "name": "python3"
  },
  "language_info": {
   "codemirror_mode": {
    "name": "ipython",
    "version": 3
   },
   "file_extension": ".py",
   "mimetype": "text/x-python",
   "name": "python",
   "nbconvert_exporter": "python",
   "pygments_lexer": "ipython3",
   "version": "3.11.4"
  },
  "orig_nbformat": 4,
  "vscode": {
   "interpreter": {
    "hash": "3c06e3e46abf38078fe4dac36a0085ec2b134ebbd73dd076183d243eeca6918f"
   }
  }
 },
 "nbformat": 4,
 "nbformat_minor": 2
}
