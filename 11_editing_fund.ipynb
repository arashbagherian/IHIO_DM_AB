{
 "cells": [
  {
   "cell_type": "code",
   "execution_count": 5,
   "metadata": {},
   "outputs": [],
   "source": [
    "import pandas as pd\n",
    "import numpy as np"
   ]
  },
  {
   "cell_type": "markdown",
   "metadata": {},
   "source": [
    "prof['fund'] = prof['fund'].replace({4:0, 1:1, 2:2, 9:2, 11:3, 12:4, 13:4, 3:5, 15:5})\n",
    "#0 = rural\n",
    "#1 = civil servants\n",
    "#2 = Iranian (+ khisfarma)\n",
    "#3 = Universal\n",
    "#4 = forigen\n",
    "#5 = others"
   ]
  },
  {
   "cell_type": "code",
   "execution_count": 6,
   "metadata": {},
   "outputs": [],
   "source": [
    "fund_dict = {4:0, 1:1, 2:2, 9:2, 11:3, 12:4, 13:4, 3:5, 15:5}\n",
    "fund_name_dict = {\n",
    "    0: 'Rural',\n",
    "    1: 'Civil servants',\n",
    "    2: 'Iranian + Self-employed',\n",
    "    3: 'Universal',\n",
    "    4: 'Foreign',\n",
    "    5: 'Others'\n",
    "}"
   ]
  },
  {
   "cell_type": "markdown",
   "metadata": {},
   "source": [
    "# Person Table"
   ]
  },
  {
   "cell_type": "code",
   "execution_count": null,
   "metadata": {},
   "outputs": [],
   "source": [
    "df = pd.read_pickle('../../1403-4-16 export/yearly_costs_encr.pkl')['data']\n",
    "df.fillna({'fund':4}, inplace=True)\n",
    "df['fund'] = df['fund'].astype(int)\n",
    "df"
   ]
  },
  {
   "cell_type": "code",
   "execution_count": 20,
   "metadata": {},
   "outputs": [
    {
     "data": {
      "text/plain": [
       "fund\n",
       "1     0.418298\n",
       "4     0.191407\n",
       "11    0.132116\n",
       "2     0.123157\n",
       "3     0.117642\n",
       "9     0.012359\n",
       "15    0.003650\n",
       "13    0.001317\n",
       "12    0.000055\n",
       "Name: proportion, dtype: float64"
      ]
     },
     "execution_count": 20,
     "metadata": {},
     "output_type": "execute_result"
    }
   ],
   "source": [
    "df['fund'].value_counts(normalize=True)"
   ]
  },
  {
   "cell_type": "code",
   "execution_count": 26,
   "metadata": {},
   "outputs": [],
   "source": [
    "edited_fund_person_df = df.replace({'fund': fund_dict}).replace({'fund': fund_name_dict})"
   ]
  },
  {
   "cell_type": "code",
   "execution_count": null,
   "metadata": {},
   "outputs": [],
   "source": [
    "edited_fund_person_df"
   ]
  },
  {
   "cell_type": "code",
   "execution_count": 31,
   "metadata": {},
   "outputs": [],
   "source": [
    "# edited_fund_person_df.to_pickle('edited_fund_person_data.pkl')"
   ]
  }
 ],
 "metadata": {
  "kernelspec": {
   "display_name": "Python 3",
   "language": "python",
   "name": "python3"
  },
  "language_info": {
   "codemirror_mode": {
    "name": "ipython",
    "version": 3
   },
   "file_extension": ".py",
   "mimetype": "text/x-python",
   "name": "python",
   "nbconvert_exporter": "python",
   "pygments_lexer": "ipython3",
   "version": "3.12.2"
  }
 },
 "nbformat": 4,
 "nbformat_minor": 2
}
