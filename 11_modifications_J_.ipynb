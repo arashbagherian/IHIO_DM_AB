{
 "cells": [
  {
   "cell_type": "code",
   "execution_count": 1,
   "metadata": {},
   "outputs": [],
   "source": [
    "import pandas as pd\n",
    "import numpy as np\n",
    "import matplotlib.pyplot as plt\n",
    "import seaborn as sns\n",
    "import os\n",
    "from pathlib import Path"
   ]
  },
  {
   "attachments": {},
   "cell_type": "markdown",
   "metadata": {},
   "source": [
    "## Deleting J02, J04, J05"
   ]
  },
  {
   "cell_type": "code",
   "execution_count": 3,
   "metadata": {},
   "outputs": [],
   "source": [
    "# Importing\n",
    "one_df_days = pd.read_pickle(r'C:\\Users\\a.bagherian\\Desktop\\working\\one_df_days\\one_df_days_18_95.pickle')"
   ]
  },
  {
   "cell_type": "code",
   "execution_count": null,
   "metadata": {},
   "outputs": [],
   "source": [
    "one_df_days"
   ]
  },
  {
   "cell_type": "code",
   "execution_count": 7,
   "metadata": {},
   "outputs": [],
   "source": [
    "# Importing service\n",
    "service = pd.read_pickle(r'C:\\Users\\a.bagherian\\Desktop\\IHIO_share_A\\service.pkl')\n",
    "service.set_index('service', inplace=True)"
   ]
  },
  {
   "cell_type": "code",
   "execution_count": 11,
   "metadata": {},
   "outputs": [],
   "source": [
    "atc_to_delete = ['J02', 'J04', 'J05']\n",
    "service_to_delete = service.loc[service['atc_2'].isin(atc_to_delete)].index"
   ]
  },
  {
   "cell_type": "code",
   "execution_count": 15,
   "metadata": {},
   "outputs": [
    {
     "data": {
      "text/plain": [
       "0.05079114484789126"
      ]
     },
     "execution_count": 15,
     "metadata": {},
     "output_type": "execute_result"
    }
   ],
   "source": [
    "one_df_days['service'].isin(service_to_delete).sum() / one_df_days.shape[0]"
   ]
  },
  {
   "cell_type": "code",
   "execution_count": 19,
   "metadata": {},
   "outputs": [],
   "source": [
    "one_df_days_J01 = one_df_days.loc[~ one_df_days['service'].isin(service_to_delete)].copy()"
   ]
  },
  {
   "cell_type": "code",
   "execution_count": 27,
   "metadata": {},
   "outputs": [
    {
     "data": {
      "text/plain": [
       "0.048579555731010804"
      ]
     },
     "execution_count": 27,
     "metadata": {},
     "output_type": "execute_result"
    }
   ],
   "source": [
    "1 - (one_df_days_J01['days'] / pd.Timedelta(days=1)).sum() / (\n",
    "    one_df_days['days'] / pd.Timedelta(days=1)).sum()"
   ]
  },
  {
   "cell_type": "code",
   "execution_count": 29,
   "metadata": {},
   "outputs": [],
   "source": [
    "# Saving one_df_days_J01\n",
    "# one_df_days_J01.to_pickle(r'E:\\after_session_03_22\\data\\one_df\\one_df_days_18_95_J01.pkl')"
   ]
  },
  {
   "attachments": {},
   "cell_type": "markdown",
   "metadata": {},
   "source": [
    "## Building member_days_18_95_J01"
   ]
  },
  {
   "cell_type": "code",
   "execution_count": null,
   "metadata": {},
   "outputs": [],
   "source": [
    "one_df_days_J01"
   ]
  },
  {
   "attachments": {},
   "cell_type": "markdown",
   "metadata": {},
   "source": [
    "### Removing outliers"
   ]
  },
  {
   "cell_type": "code",
   "execution_count": null,
   "metadata": {},
   "outputs": [],
   "source": [
    "# Removing outliers\n",
    "limit = pd.Timedelta(30, 'day')\n",
    "print(limit)\n",
    "outliers = one_df_days_J01.loc[one_df_days_J01['days'] > limit]\n",
    "outliers"
   ]
  },
  {
   "cell_type": "code",
   "execution_count": 36,
   "metadata": {},
   "outputs": [],
   "source": [
    "one_df_days_J01_outliers_removed = one_df_days_J01.loc[one_df_days_J01['days'] <= limit].copy()"
   ]
  },
  {
   "cell_type": "code",
   "execution_count": 38,
   "metadata": {},
   "outputs": [
    {
     "data": {
      "text/html": [
       "<div>\n",
       "<style scoped>\n",
       "    .dataframe tbody tr th:only-of-type {\n",
       "        vertical-align: middle;\n",
       "    }\n",
       "\n",
       "    .dataframe tbody tr th {\n",
       "        vertical-align: top;\n",
       "    }\n",
       "\n",
       "    .dataframe thead th {\n",
       "        text-align: right;\n",
       "    }\n",
       "</style>\n",
       "<table border=\"1\" class=\"dataframe\">\n",
       "  <thead>\n",
       "    <tr style=\"text-align: right;\">\n",
       "      <th></th>\n",
       "      <th>days</th>\n",
       "    </tr>\n",
       "  </thead>\n",
       "  <tbody>\n",
       "    <tr>\n",
       "      <th>count</th>\n",
       "      <td>9017002</td>\n",
       "    </tr>\n",
       "    <tr>\n",
       "      <th>mean</th>\n",
       "      <td>7 days 17:12:35.776860208</td>\n",
       "    </tr>\n",
       "    <tr>\n",
       "      <th>std</th>\n",
       "      <td>5 days 07:33:58.336634953</td>\n",
       "    </tr>\n",
       "    <tr>\n",
       "      <th>min</th>\n",
       "      <td>0 days 00:01:09.120000</td>\n",
       "    </tr>\n",
       "    <tr>\n",
       "      <th>25%</th>\n",
       "      <td>4 days 23:59:42.720000</td>\n",
       "    </tr>\n",
       "    <tr>\n",
       "      <th>50%</th>\n",
       "      <td>6 days 15:59:02.400000</td>\n",
       "    </tr>\n",
       "    <tr>\n",
       "      <th>75%</th>\n",
       "      <td>10 days 00:00:00</td>\n",
       "    </tr>\n",
       "    <tr>\n",
       "      <th>max</th>\n",
       "      <td>30 days 00:00:00</td>\n",
       "    </tr>\n",
       "  </tbody>\n",
       "</table>\n",
       "</div>"
      ],
      "text/plain": [
       "                            days\n",
       "count                    9017002\n",
       "mean   7 days 17:12:35.776860208\n",
       "std    5 days 07:33:58.336634953\n",
       "min       0 days 00:01:09.120000\n",
       "25%       4 days 23:59:42.720000\n",
       "50%       6 days 15:59:02.400000\n",
       "75%             10 days 00:00:00\n",
       "max             30 days 00:00:00"
      ]
     },
     "execution_count": 38,
     "metadata": {},
     "output_type": "execute_result"
    }
   ],
   "source": [
    "one_df_days_J01_outliers_removed.describe()"
   ]
  },
  {
   "cell_type": "code",
   "execution_count": 39,
   "metadata": {},
   "outputs": [],
   "source": [
    "member_days_J01 = one_df_days_J01_outliers_removed.groupby('member')['days'].sum()"
   ]
  },
  {
   "cell_type": "code",
   "execution_count": 41,
   "metadata": {},
   "outputs": [
    {
     "data": {
      "text/plain": [
       "count                 464165.666667\n",
       "mean     16 days 15:46:14.416763567\n",
       "std      20 days 16:14:32.299356431\n",
       "min          0 days 00:01:35.040000\n",
       "25%                 5 days 00:00:00\n",
       "50%         10 days 13:19:35.040000\n",
       "75%      20 days 17:19:11.999999999\n",
       "max       1853 days 07:42:08.640000\n",
       "Name: days, dtype: object"
      ]
     },
     "execution_count": 41,
     "metadata": {},
     "output_type": "execute_result"
    }
   ],
   "source": [
    "member_days_J01.describe() / 3"
   ]
  },
  {
   "cell_type": "code",
   "execution_count": 42,
   "metadata": {},
   "outputs": [],
   "source": [
    "# Saving member_days_18_95_outliers_removed_J01\n",
    "# member_days_J01.to_pickle(r'E:\\after_session_03_22\\data\\one_df\\member_days_18_95_outliers_removed_J01.pkl')"
   ]
  },
  {
   "attachments": {},
   "cell_type": "markdown",
   "metadata": {},
   "source": [
    "### Building member_cat_J01"
   ]
  },
  {
   "cell_type": "code",
   "execution_count": 43,
   "metadata": {},
   "outputs": [],
   "source": [
    "days_final = pd.read_pickle(r'E:\\after_session_03_22\\data\\one_df\\member_days_18_95_outliers_removed_J01.pkl')"
   ]
  },
  {
   "cell_type": "code",
   "execution_count": null,
   "metadata": {},
   "outputs": [],
   "source": [
    "days_final = days_final.to_frame()\n",
    "days_final"
   ]
  },
  {
   "cell_type": "code",
   "execution_count": 54,
   "metadata": {},
   "outputs": [
    {
     "data": {
      "text/html": [
       "<div>\n",
       "<style scoped>\n",
       "    .dataframe tbody tr th:only-of-type {\n",
       "        vertical-align: middle;\n",
       "    }\n",
       "\n",
       "    .dataframe tbody tr th {\n",
       "        vertical-align: top;\n",
       "    }\n",
       "\n",
       "    .dataframe thead th {\n",
       "        text-align: right;\n",
       "    }\n",
       "</style>\n",
       "<table border=\"1\" class=\"dataframe\">\n",
       "  <thead>\n",
       "    <tr style=\"text-align: right;\">\n",
       "      <th></th>\n",
       "      <th>days</th>\n",
       "      <th>cat</th>\n",
       "    </tr>\n",
       "  </thead>\n",
       "  <tbody>\n",
       "    <tr>\n",
       "      <th>count</th>\n",
       "      <td>464165.666667</td>\n",
       "      <td>464165.666667</td>\n",
       "    </tr>\n",
       "    <tr>\n",
       "      <th>mean</th>\n",
       "      <td>16 days 15:46:14.416763567</td>\n",
       "      <td>0.823999</td>\n",
       "    </tr>\n",
       "    <tr>\n",
       "      <th>std</th>\n",
       "      <td>20 days 16:14:32.299356431</td>\n",
       "      <td>0.373586</td>\n",
       "    </tr>\n",
       "    <tr>\n",
       "      <th>min</th>\n",
       "      <td>0 days 00:01:35.040000</td>\n",
       "      <td>0.333333</td>\n",
       "    </tr>\n",
       "    <tr>\n",
       "      <th>25%</th>\n",
       "      <td>5 days 00:00:00</td>\n",
       "      <td>0.333333</td>\n",
       "    </tr>\n",
       "    <tr>\n",
       "      <th>50%</th>\n",
       "      <td>10 days 13:19:35.040000</td>\n",
       "      <td>0.666667</td>\n",
       "    </tr>\n",
       "    <tr>\n",
       "      <th>75%</th>\n",
       "      <td>20 days 17:19:11.999999999</td>\n",
       "      <td>1.000000</td>\n",
       "    </tr>\n",
       "    <tr>\n",
       "      <th>max</th>\n",
       "      <td>1853 days 07:42:08.640000</td>\n",
       "      <td>1.333333</td>\n",
       "    </tr>\n",
       "  </tbody>\n",
       "</table>\n",
       "</div>"
      ],
      "text/plain": [
       "                             days            cat\n",
       "count               464165.666667  464165.666667\n",
       "mean   16 days 15:46:14.416763567       0.823999\n",
       "std    20 days 16:14:32.299356431       0.373586\n",
       "min        0 days 00:01:35.040000       0.333333\n",
       "25%               5 days 00:00:00       0.333333\n",
       "50%       10 days 13:19:35.040000       0.666667\n",
       "75%    20 days 17:19:11.999999999       1.000000\n",
       "max     1853 days 07:42:08.640000       1.333333"
      ]
     },
     "execution_count": 54,
     "metadata": {},
     "output_type": "execute_result"
    }
   ],
   "source": [
    "days_final.loc[days_final['days'] > pd.Timedelta(0, 'day')].describe() / 3"
   ]
  },
  {
   "cell_type": "code",
   "execution_count": null,
   "metadata": {},
   "outputs": [],
   "source": [
    "num_days = (days_final['days'] / pd.Timedelta(1, 'day')) / 3\n",
    "num_days "
   ]
  },
  {
   "cell_type": "code",
   "execution_count": 49,
   "metadata": {},
   "outputs": [],
   "source": [
    "days_final.loc[num_days == 0, 'cat'] = 0\n",
    "days_final.loc[(0 < num_days) & (num_days <= 5), 'cat'] = 1\n",
    "days_final.loc[(5 < num_days) & (num_days <= 11), 'cat'] = 2\n",
    "days_final.loc[(11 < num_days) & (num_days <= 21), 'cat'] = 3\n",
    "days_final.loc[(21 < num_days), 'cat'] = 4"
   ]
  },
  {
   "cell_type": "code",
   "execution_count": null,
   "metadata": {},
   "outputs": [],
   "source": [
    "days_final"
   ]
  },
  {
   "cell_type": "code",
   "execution_count": 51,
   "metadata": {},
   "outputs": [
    {
     "data": {
      "text/plain": [
       "1.0    0.257897\n",
       "2.0    0.257753\n",
       "4.0    0.245543\n",
       "3.0    0.238807\n",
       "Name: cat, dtype: float64"
      ]
     },
     "execution_count": 51,
     "metadata": {},
     "output_type": "execute_result"
    }
   ],
   "source": [
    "days_final['cat'].value_counts(normalize=True, dropna=False)"
   ]
  },
  {
   "cell_type": "code",
   "execution_count": 55,
   "metadata": {},
   "outputs": [],
   "source": [
    "# saving member_cat_J01\n",
    "# days_final.to_pickle(r'E:\\after_session_03_22\\data\\one_df\\member_cat_J01.pkl')"
   ]
  },
  {
   "attachments": {},
   "cell_type": "markdown",
   "metadata": {},
   "source": [
    "## Building person_df_J01"
   ]
  },
  {
   "cell_type": "code",
   "execution_count": null,
   "metadata": {},
   "outputs": [],
   "source": [
    "person_df = pd.read_pickle(r'E:\\after_session_03_22\\data\\person_df_3agegroups.pkl')\n",
    "person_df"
   ]
  },
  {
   "cell_type": "code",
   "execution_count": 58,
   "metadata": {},
   "outputs": [],
   "source": [
    "person_df.drop('cat', axis=1, inplace=True)"
   ]
  },
  {
   "cell_type": "code",
   "execution_count": 59,
   "metadata": {},
   "outputs": [],
   "source": [
    "# Importing member_cat_J01\n",
    "member_cat_J01 = pd.read_pickle(r'E:\\after_session_03_22\\data\\one_df\\member_cat_J01.pkl')"
   ]
  },
  {
   "cell_type": "code",
   "execution_count": null,
   "metadata": {},
   "outputs": [],
   "source": [
    "member_cat_J01"
   ]
  },
  {
   "cell_type": "code",
   "execution_count": 61,
   "metadata": {},
   "outputs": [],
   "source": [
    "person_df_J01 = pd.merge(\n",
    "    person_df,\n",
    "    member_cat_J01[['cat']],\n",
    "    how='left',\n",
    "    left_index=True,\n",
    "    right_index=True\n",
    ")"
   ]
  },
  {
   "cell_type": "code",
   "execution_count": 63,
   "metadata": {},
   "outputs": [
    {
     "data": {
      "text/plain": [
       "1.0    0.210729\n",
       "2.0    0.210611\n",
       "4.0    0.200635\n",
       "3.0    0.195131\n",
       "NaN    0.182894\n",
       "Name: cat, dtype: float64"
      ]
     },
     "execution_count": 63,
     "metadata": {},
     "output_type": "execute_result"
    }
   ],
   "source": [
    "person_df_J01['cat'].value_counts(normalize=True, dropna=False)"
   ]
  },
  {
   "cell_type": "code",
   "execution_count": 67,
   "metadata": {},
   "outputs": [],
   "source": [
    "person_df_J01['cat'].fillna(0, inplace=True)"
   ]
  },
  {
   "cell_type": "code",
   "execution_count": 71,
   "metadata": {},
   "outputs": [],
   "source": [
    "person_df_J01['cat'] = person_df_J01['cat'].astype(int)"
   ]
  },
  {
   "cell_type": "code",
   "execution_count": null,
   "metadata": {},
   "outputs": [],
   "source": [
    "person_df_J01"
   ]
  },
  {
   "cell_type": "code",
   "execution_count": 74,
   "metadata": {},
   "outputs": [],
   "source": [
    "# Saving person_df_J01\n",
    "# person_df_J01.to_pickle(r'E:\\after_session_03_22\\data\\one_df\\person_df_J01.pkl')"
   ]
  },
  {
   "attachments": {},
   "cell_type": "markdown",
   "metadata": {},
   "source": [
    "## Building parts with new ab column just based on J01"
   ]
  },
  {
   "cell_type": "code",
   "execution_count": 76,
   "metadata": {},
   "outputs": [],
   "source": [
    "ab_service = service.loc[service['atc_2'] == 'J01'].index"
   ]
  },
  {
   "cell_type": "code",
   "execution_count": null,
   "metadata": {},
   "outputs": [],
   "source": [
    "ab_service"
   ]
  },
  {
   "cell_type": "code",
   "execution_count": 82,
   "metadata": {},
   "outputs": [
    {
     "data": {
      "text/plain": [
       "['part1_dm_combined_18_95.pkl',\n",
       " 'part2_dm_combined_18_95.pkl',\n",
       " 'part3_dm_combined_18_95.pkl',\n",
       " 'part4_dm_combined_18_95.pkl',\n",
       " 'part5_dm_combined_18_95.pkl',\n",
       " 'part6_dm_combined_18_95.pkl',\n",
       " 'part7_dm_combined_18_95.pkl',\n",
       " 'part8_dm_combined_18_95.pkl']"
      ]
     },
     "execution_count": 82,
     "metadata": {},
     "output_type": "execute_result"
    }
   ],
   "source": [
    "prev_parts_path = Path(r'C:\\Users\\a.bagherian\\Desktop\\working\\Diabetics Combined 18_95')\n",
    "os.listdir(prev_parts_path)"
   ]
  },
  {
   "cell_type": "code",
   "execution_count": 122,
   "metadata": {},
   "outputs": [],
   "source": [
    "# Applying new ab columns and saving\n",
    "\n",
    "# for part_num, prev_loc in enumerate(os.listdir(prev_parts_path)):\n",
    "#     prev_loc = prev_parts_path / prev_loc\n",
    "#     part_num += 1\n",
    "\n",
    "#     # Importing previous part\n",
    "#     part = pd.read_pickle(prev_loc)\n",
    "\n",
    "#     # Modifying ab column to only consider J01\n",
    "#     part['ab'] = part['service'].isin(ab_service)\n",
    "\n",
    "#     # Modifying days column to only consider J01\n",
    "#     part.loc[~ part['ab'], 'days'] = pd.Timedelta(0, 'day')\n",
    "\n",
    "#     # Merging data from person_df_J01\n",
    "#     part = pd.merge(\n",
    "#         part,\n",
    "#         person_df_J01.loc[\n",
    "#             person_df_J01['part'] == part_num, ['fund', 'age', 'age_cat', 'cat']],\n",
    "#         how='left',\n",
    "#         left_on='member',\n",
    "#         right_index=True\n",
    "#     )\n",
    "    \n",
    "#     # Saving new parts\n",
    "#     new_part_loc = (\n",
    "#         Path(r'E:\\after_session_03_22\\data\\part_data') / (prev_loc.stem + '_J01' + prev_loc.suffix)\n",
    "#     )\n",
    "#     part.to_pickle(new_part_loc)"
   ]
  },
  {
   "cell_type": "code",
   "execution_count": null,
   "metadata": {},
   "outputs": [],
   "source": [
    "part"
   ]
  },
  {
   "attachments": {},
   "cell_type": "markdown",
   "metadata": {},
   "source": [
    "## Replacing mod of province with province of parts"
   ]
  },
  {
   "cell_type": "code",
   "execution_count": null,
   "metadata": {},
   "outputs": [],
   "source": [
    "# Importing person_df_J01\n",
    "person_df_J01 = pd.read_pickle(r'E:\\after_session_03_22\\data\\one_df\\person_df_J01.pkl')\n",
    "person_df_J01"
   ]
  },
  {
   "cell_type": "code",
   "execution_count": 4,
   "metadata": {},
   "outputs": [
    {
     "data": {
      "text/plain": [
       "['part1_dm_combined_18_95_J01.pkl',\n",
       " 'part2_dm_combined_18_95_J01.pkl',\n",
       " 'part3_dm_combined_18_95_J01.pkl',\n",
       " 'part4_dm_combined_18_95_J01.pkl',\n",
       " 'part5_dm_combined_18_95_J01.pkl',\n",
       " 'part6_dm_combined_18_95_J01.pkl',\n",
       " 'part7_dm_combined_18_95_J01.pkl',\n",
       " 'part8_dm_combined_18_95_J01.pkl']"
      ]
     },
     "execution_count": 4,
     "metadata": {},
     "output_type": "execute_result"
    }
   ],
   "source": [
    "parts_path = Path(r'E:\\after_session_03_22\\data\\part_data')\n",
    "os.listdir(parts_path)"
   ]
  },
  {
   "cell_type": "code",
   "execution_count": 7,
   "metadata": {},
   "outputs": [],
   "source": [
    "# Adding prov_mod column to parts\n",
    "\n",
    "person_df_J01.rename(columns={'province': 'prov_mod'}, inplace=True)\n",
    "\n",
    "for part_num, part_loc in enumerate(os.listdir(parts_path)):\n",
    "    part_loc = parts_path / part_loc\n",
    "    part_num += 1\n",
    "\n",
    "    # Importing previous part\n",
    "    part = pd.read_pickle(part_loc)\n",
    "\n",
    "    # Adding prov_mod\n",
    "    part = pd.merge(\n",
    "        part,\n",
    "        person_df_J01.loc[\n",
    "            person_df_J01['part'] == part_num, ['prov_mod']\n",
    "        ],\n",
    "        how='left',\n",
    "        left_on='member',\n",
    "        right_index=True\n",
    "    )\n",
    "\n",
    "    # Saving new parts\n",
    "    new_part_loc = (\n",
    "        Path(r'E:\\after_session_03_22\\data\\part_data\\prov_mod') / part_loc.name\n",
    "    )\n",
    "    part.to_pickle(new_part_loc)"
   ]
  }
 ],
 "metadata": {
  "kernelspec": {
   "display_name": "base",
   "language": "python",
   "name": "python3"
  },
  "language_info": {
   "codemirror_mode": {
    "name": "ipython",
    "version": 3
   },
   "file_extension": ".py",
   "mimetype": "text/x-python",
   "name": "python",
   "nbconvert_exporter": "python",
   "pygments_lexer": "ipython3",
   "version": "3.11.4"
  },
  "orig_nbformat": 4,
  "vscode": {
   "interpreter": {
    "hash": "3c06e3e46abf38078fe4dac36a0085ec2b134ebbd73dd076183d243eeca6918f"
   }
  }
 },
 "nbformat": 4,
 "nbformat_minor": 2
}
