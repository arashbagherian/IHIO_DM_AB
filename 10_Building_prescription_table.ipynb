{
 "cells": [
  {
   "cell_type": "code",
   "execution_count": 1,
   "metadata": {},
   "outputs": [],
   "source": [
    "import pandas as pd\n",
    "import numpy as np\n",
    "from pathlib import Path\n",
    "import os\n",
    "from statsmodels.stats.proportion import proportion_confint\n",
    "from itertools import product"
   ]
  },
  {
   "attachments": {},
   "cell_type": "markdown",
   "metadata": {},
   "source": [
    "## Importing Data and Building Data"
   ]
  },
  {
   "cell_type": "code",
   "execution_count": 2,
   "metadata": {},
   "outputs": [
    {
     "data": {
      "text/plain": [
       "['part1_dm_combined_18_95_J01.pkl',\n",
       " 'part2_dm_combined_18_95_J01.pkl',\n",
       " 'part3_dm_combined_18_95_J01.pkl',\n",
       " 'part4_dm_combined_18_95_J01.pkl',\n",
       " 'part5_dm_combined_18_95_J01.pkl',\n",
       " 'part6_dm_combined_18_95_J01.pkl',\n",
       " 'part7_dm_combined_18_95_J01.pkl',\n",
       " 'part8_dm_combined_18_95_J01.pkl']"
      ]
     },
     "execution_count": 2,
     "metadata": {},
     "output_type": "execute_result"
    }
   ],
   "source": [
    "parts_path = Path(r'E:\\after_session_03_22\\data\\part_data')\n",
    "os.listdir(parts_path)"
   ]
  },
  {
   "attachments": {},
   "cell_type": "markdown",
   "metadata": {},
   "source": [
    "## Building Empty Table"
   ]
  },
  {
   "cell_type": "code",
   "execution_count": 48,
   "metadata": {},
   "outputs": [
    {
     "data": {
      "text/html": [
       "<div>\n",
       "<style scoped>\n",
       "    .dataframe tbody tr th:only-of-type {\n",
       "        vertical-align: middle;\n",
       "    }\n",
       "\n",
       "    .dataframe tbody tr th {\n",
       "        vertical-align: top;\n",
       "    }\n",
       "\n",
       "    .dataframe thead th {\n",
       "        text-align: right;\n",
       "    }\n",
       "</style>\n",
       "<table border=\"1\" class=\"dataframe\">\n",
       "  <thead>\n",
       "    <tr style=\"text-align: right;\">\n",
       "      <th></th>\n",
       "      <th>all</th>\n",
       "      <th>0</th>\n",
       "      <th>1</th>\n",
       "      <th>2</th>\n",
       "      <th>3</th>\n",
       "      <th>4</th>\n",
       "    </tr>\n",
       "  </thead>\n",
       "  <tbody>\n",
       "    <tr>\n",
       "      <th>ab</th>\n",
       "      <td>0</td>\n",
       "      <td>0</td>\n",
       "      <td>0</td>\n",
       "      <td>0</td>\n",
       "      <td>0</td>\n",
       "      <td>0</td>\n",
       "    </tr>\n",
       "    <tr>\n",
       "      <th>dm</th>\n",
       "      <td>0</td>\n",
       "      <td>0</td>\n",
       "      <td>0</td>\n",
       "      <td>0</td>\n",
       "      <td>0</td>\n",
       "      <td>0</td>\n",
       "    </tr>\n",
       "    <tr>\n",
       "      <th>total</th>\n",
       "      <td>0</td>\n",
       "      <td>0</td>\n",
       "      <td>0</td>\n",
       "      <td>0</td>\n",
       "      <td>0</td>\n",
       "      <td>0</td>\n",
       "    </tr>\n",
       "  </tbody>\n",
       "</table>\n",
       "</div>"
      ],
      "text/plain": [
       "       all  0  1  2  3  4\n",
       "ab       0  0  0  0  0  0\n",
       "dm       0  0  0  0  0  0\n",
       "total    0  0  0  0  0  0"
      ]
     },
     "execution_count": 48,
     "metadata": {},
     "output_type": "execute_result"
    }
   ],
   "source": [
    "cols = ['all', 0, 1, 2, 3, 4]\n",
    "table = pd.DataFrame(\n",
    "    index=['ab', 'dm', 'total'],\n",
    "    columns=cols,\n",
    ")\n",
    "table.fillna(0, inplace=True)\n",
    "table"
   ]
  },
  {
   "cell_type": "code",
   "execution_count": 49,
   "metadata": {},
   "outputs": [
    {
     "data": {
      "text/plain": [
       "0"
      ]
     },
     "execution_count": 49,
     "metadata": {},
     "output_type": "execute_result"
    }
   ],
   "source": [
    "table.loc['ab', 2]"
   ]
  },
  {
   "attachments": {},
   "cell_type": "markdown",
   "metadata": {},
   "source": [
    "## Putting in the Values"
   ]
  },
  {
   "cell_type": "code",
   "execution_count": 50,
   "metadata": {},
   "outputs": [
    {
     "name": "stdout",
     "output_type": "stream",
     "text": [
      "Processing:   part1_dm_combined_18_95_J01.pkl\n",
      "Processing:   part2_dm_combined_18_95_J01.pkl\n",
      "Processing:   part3_dm_combined_18_95_J01.pkl\n",
      "Processing:   part4_dm_combined_18_95_J01.pkl\n",
      "Processing:   part5_dm_combined_18_95_J01.pkl\n",
      "Processing:   part6_dm_combined_18_95_J01.pkl\n",
      "Processing:   part7_dm_combined_18_95_J01.pkl\n",
      "Processing:   part8_dm_combined_18_95_J01.pkl\n"
     ]
    }
   ],
   "source": [
    "for part_loc in os.listdir(parts_path):\n",
    "    # Logging\n",
    "    print('Processing:  ', part_loc)\n",
    "\n",
    "    # Importing part\n",
    "    part_loc = parts_path / part_loc\n",
    "    part = pd.read_pickle(part_loc)\n",
    "\n",
    "    # Filiing values\n",
    "    categories = part['cat'].unique()\n",
    "    for cat in categories:\n",
    "        for drug in ['ab', 'dm', 'total']:\n",
    "            cat_filt = part['cat'] == cat\n",
    "            \n",
    "            if drug == 'total':\n",
    "                table.loc[drug, cat] = (table.loc[drug, cat]\n",
    "                                        + part.loc[cat_filt].shape[0]\n",
    "                                    )\n",
    "                continue\n",
    "\n",
    "            table.loc[drug, cat] = (table.loc[drug, cat]\n",
    "                                    + part.loc[cat_filt].groupby('prescription')[drug].any().sum()\n",
    "                                )"
   ]
  },
  {
   "cell_type": "code",
   "execution_count": 51,
   "metadata": {},
   "outputs": [
    {
     "data": {
      "text/html": [
       "<div>\n",
       "<style scoped>\n",
       "    .dataframe tbody tr th:only-of-type {\n",
       "        vertical-align: middle;\n",
       "    }\n",
       "\n",
       "    .dataframe tbody tr th {\n",
       "        vertical-align: top;\n",
       "    }\n",
       "\n",
       "    .dataframe thead th {\n",
       "        text-align: right;\n",
       "    }\n",
       "</style>\n",
       "<table border=\"1\" class=\"dataframe\">\n",
       "  <thead>\n",
       "    <tr style=\"text-align: right;\">\n",
       "      <th></th>\n",
       "      <th>all</th>\n",
       "      <th>0</th>\n",
       "      <th>1</th>\n",
       "      <th>2</th>\n",
       "      <th>3</th>\n",
       "      <th>4</th>\n",
       "    </tr>\n",
       "  </thead>\n",
       "  <tbody>\n",
       "    <tr>\n",
       "      <th>ab</th>\n",
       "      <td>0</td>\n",
       "      <td>2764</td>\n",
       "      <td>502401</td>\n",
       "      <td>1046963</td>\n",
       "      <td>1721120</td>\n",
       "      <td>4182168</td>\n",
       "    </tr>\n",
       "    <tr>\n",
       "      <th>dm</th>\n",
       "      <td>0</td>\n",
       "      <td>934428</td>\n",
       "      <td>1421837</td>\n",
       "      <td>1639246</td>\n",
       "      <td>1707564</td>\n",
       "      <td>2080256</td>\n",
       "    </tr>\n",
       "    <tr>\n",
       "      <th>total</th>\n",
       "      <td>0</td>\n",
       "      <td>6426526</td>\n",
       "      <td>12704037</td>\n",
       "      <td>17543904</td>\n",
       "      <td>22255883</td>\n",
       "      <td>40929474</td>\n",
       "    </tr>\n",
       "  </tbody>\n",
       "</table>\n",
       "</div>"
      ],
      "text/plain": [
       "       all        0         1         2         3         4\n",
       "ab       0     2764    502401   1046963   1721120   4182168\n",
       "dm       0   934428   1421837   1639246   1707564   2080256\n",
       "total    0  6426526  12704037  17543904  22255883  40929474"
      ]
     },
     "execution_count": 51,
     "metadata": {},
     "output_type": "execute_result"
    }
   ],
   "source": [
    "table"
   ]
  },
  {
   "cell_type": "code",
   "execution_count": 53,
   "metadata": {},
   "outputs": [],
   "source": [
    "# Computing all column.\n",
    "table['all'] = table.sum(axis=1)"
   ]
  },
  {
   "cell_type": "code",
   "execution_count": 54,
   "metadata": {},
   "outputs": [
    {
     "data": {
      "text/html": [
       "<div>\n",
       "<style scoped>\n",
       "    .dataframe tbody tr th:only-of-type {\n",
       "        vertical-align: middle;\n",
       "    }\n",
       "\n",
       "    .dataframe tbody tr th {\n",
       "        vertical-align: top;\n",
       "    }\n",
       "\n",
       "    .dataframe thead th {\n",
       "        text-align: right;\n",
       "    }\n",
       "</style>\n",
       "<table border=\"1\" class=\"dataframe\">\n",
       "  <thead>\n",
       "    <tr style=\"text-align: right;\">\n",
       "      <th></th>\n",
       "      <th>all</th>\n",
       "      <th>0</th>\n",
       "      <th>1</th>\n",
       "      <th>2</th>\n",
       "      <th>3</th>\n",
       "      <th>4</th>\n",
       "    </tr>\n",
       "  </thead>\n",
       "  <tbody>\n",
       "    <tr>\n",
       "      <th>ab</th>\n",
       "      <td>7455416</td>\n",
       "      <td>2764</td>\n",
       "      <td>502401</td>\n",
       "      <td>1046963</td>\n",
       "      <td>1721120</td>\n",
       "      <td>4182168</td>\n",
       "    </tr>\n",
       "    <tr>\n",
       "      <th>dm</th>\n",
       "      <td>7783331</td>\n",
       "      <td>934428</td>\n",
       "      <td>1421837</td>\n",
       "      <td>1639246</td>\n",
       "      <td>1707564</td>\n",
       "      <td>2080256</td>\n",
       "    </tr>\n",
       "    <tr>\n",
       "      <th>total</th>\n",
       "      <td>99859824</td>\n",
       "      <td>6426526</td>\n",
       "      <td>12704037</td>\n",
       "      <td>17543904</td>\n",
       "      <td>22255883</td>\n",
       "      <td>40929474</td>\n",
       "    </tr>\n",
       "  </tbody>\n",
       "</table>\n",
       "</div>"
      ],
      "text/plain": [
       "            all        0         1         2         3         4\n",
       "ab      7455416     2764    502401   1046963   1721120   4182168\n",
       "dm      7783331   934428   1421837   1639246   1707564   2080256\n",
       "total  99859824  6426526  12704037  17543904  22255883  40929474"
      ]
     },
     "execution_count": 54,
     "metadata": {},
     "output_type": "execute_result"
    }
   ],
   "source": [
    "table"
   ]
  },
  {
   "attachments": {},
   "cell_type": "markdown",
   "metadata": {},
   "source": [
    "## Saving"
   ]
  },
  {
   "cell_type": "code",
   "execution_count": 55,
   "metadata": {},
   "outputs": [],
   "source": [
    "# Saving prescription_table_numbers\n",
    "# It contains the number of prescriptions that have at least on ab or one dm drug in them by ab_groups.\n",
    "# table.to_csv(r'E:\\after_session_03_22\\results\\prescription_table_numbers.csv')"
   ]
  },
  {
   "attachments": {},
   "cell_type": "markdown",
   "metadata": {},
   "source": [
    "## Sandbox"
   ]
  },
  {
   "cell_type": "code",
   "execution_count": null,
   "metadata": {},
   "outputs": [],
   "source": [
    "part"
   ]
  },
  {
   "cell_type": "code",
   "execution_count": null,
   "metadata": {},
   "outputs": [],
   "source": [
    "part.groupby('prescription')['dm'].any()"
   ]
  },
  {
   "cell_type": "code",
   "execution_count": null,
   "metadata": {},
   "outputs": [],
   "source": [
    "part.groupby('prescription')['ab'].any()"
   ]
  }
 ],
 "metadata": {
  "kernelspec": {
   "display_name": "base",
   "language": "python",
   "name": "python3"
  },
  "language_info": {
   "codemirror_mode": {
    "name": "ipython",
    "version": 3
   },
   "file_extension": ".py",
   "mimetype": "text/x-python",
   "name": "python",
   "nbconvert_exporter": "python",
   "pygments_lexer": "ipython3",
   "version": "3.11.4"
  },
  "orig_nbformat": 4,
  "vscode": {
   "interpreter": {
    "hash": "3c06e3e46abf38078fe4dac36a0085ec2b134ebbd73dd076183d243eeca6918f"
   }
  }
 },
 "nbformat": 4,
 "nbformat_minor": 2
}
