{
 "cells": [
  {
   "cell_type": "code",
   "execution_count": 10,
   "metadata": {},
   "outputs": [],
   "source": [
    "import pandas as pd\n",
    "import numpy as np\n",
    "from pathlib import Path\n",
    "import os\n",
    "from statsmodels.stats.proportion import proportion_confint\n",
    "from itertools import product"
   ]
  },
  {
   "attachments": {},
   "cell_type": "markdown",
   "metadata": {},
   "source": [
    "## Importing"
   ]
  },
  {
   "cell_type": "code",
   "execution_count": 11,
   "metadata": {},
   "outputs": [
    {
     "data": {
      "text/plain": [
       "['part1_dm_combined_18_95_J01.pkl',\n",
       " 'part2_dm_combined_18_95_J01.pkl',\n",
       " 'part3_dm_combined_18_95_J01.pkl',\n",
       " 'part4_dm_combined_18_95_J01.pkl',\n",
       " 'part5_dm_combined_18_95_J01.pkl',\n",
       " 'part6_dm_combined_18_95_J01.pkl',\n",
       " 'part7_dm_combined_18_95_J01.pkl',\n",
       " 'part8_dm_combined_18_95_J01.pkl',\n",
       " 'without prov_mod']"
      ]
     },
     "execution_count": 11,
     "metadata": {},
     "output_type": "execute_result"
    }
   ],
   "source": [
    "parts_path = Path(r'E:\\after_session_03_22\\data\\part_data')\n",
    "os.listdir(parts_path)"
   ]
  },
  {
   "attachments": {},
   "cell_type": "markdown",
   "metadata": {},
   "source": [
    "## Calculating"
   ]
  },
  {
   "cell_type": "code",
   "execution_count": 18,
   "metadata": {},
   "outputs": [
    {
     "name": "stdout",
     "output_type": "stream",
     "text": [
      "Processing:   part1_dm_combined_18_95_J01.pkl\n",
      "Processing:   part2_dm_combined_18_95_J01.pkl\n",
      "Processing:   part3_dm_combined_18_95_J01.pkl\n",
      "Processing:   part4_dm_combined_18_95_J01.pkl\n",
      "Processing:   part5_dm_combined_18_95_J01.pkl\n",
      "Processing:   part6_dm_combined_18_95_J01.pkl\n",
      "Processing:   part7_dm_combined_18_95_J01.pkl\n",
      "Processing:   part8_dm_combined_18_95_J01.pkl\n"
     ]
    }
   ],
   "source": [
    "# to_groupby = ['gender', 'age_cat', 'cat', 'member']\n",
    "to_groupby = 'member'\n",
    "\n",
    "first_iter = True\n",
    "for part_loc in os.listdir(parts_path):\n",
    "    # Logging\n",
    "    print('Processing:  ', part_loc)\n",
    "\n",
    "    # Importing part\n",
    "    part_loc = parts_path / part_loc\n",
    "    part = pd.read_pickle(part_loc)\n",
    "\n",
    "    # Filtering for ab drugs\n",
    "    part = part.loc[part['ab']]\n",
    "\n",
    "    # Building ab_class column\n",
    "    part['ab_class'] = part['atc'].str[:4]\n",
    "    # groupby\n",
    "    if first_iter:\n",
    "        df = part.groupby(to_groupby)['ab_class'].value_counts().to_frame().unstack(-1)\n",
    "    first_iter = False\n",
    "    df = pd.concat([\n",
    "        df, part.groupby(to_groupby)['ab_class'].value_counts().to_frame().unstack(-1)\n",
    "    ], axis=0)\n"
   ]
  },
  {
   "cell_type": "code",
   "execution_count": 25,
   "metadata": {},
   "outputs": [],
   "source": [
    "# Deleting duplicates\n",
    "df = df.groupby(df.index).last()"
   ]
  },
  {
   "cell_type": "code",
   "execution_count": null,
   "metadata": {},
   "outputs": [],
   "source": [
    "df"
   ]
  },
  {
   "cell_type": "code",
   "execution_count": null,
   "metadata": {},
   "outputs": [],
   "source": []
  },
  {
   "cell_type": "code",
   "execution_count": 27,
   "metadata": {},
   "outputs": [
    {
     "data": {
      "text/plain": [
       "1394977"
      ]
     },
     "execution_count": 27,
     "metadata": {},
     "output_type": "execute_result"
    }
   ],
   "source": [
    "df.index.get_level_values('member').nunique()"
   ]
  },
  {
   "attachments": {},
   "cell_type": "markdown",
   "metadata": {},
   "source": [
    "## Adding Data From person_df_J01"
   ]
  },
  {
   "cell_type": "code",
   "execution_count": null,
   "metadata": {},
   "outputs": [],
   "source": [
    "person_df_J01 = pd.read_pickle(r'E:\\after_session_03_22\\data\\one_df\\person_df_J01.pkl')\n",
    "person_df_J01"
   ]
  },
  {
   "cell_type": "code",
   "execution_count": 28,
   "metadata": {},
   "outputs": [],
   "source": [
    "# Merging\n",
    "cols_to_merge = ['gender', 'fund', 'age_cat', 'cat', 'province']\n",
    "\n",
    "final = pd.merge(\n",
    "    df.loc[:, 'ab_class'],\n",
    "    person_df_J01[cols_to_merge],\n",
    "    how='left',\n",
    "    on='member'\n",
    ")"
   ]
  },
  {
   "cell_type": "code",
   "execution_count": null,
   "metadata": {},
   "outputs": [],
   "source": [
    "final"
   ]
  },
  {
   "attachments": {},
   "cell_type": "markdown",
   "metadata": {},
   "source": [
    "## Saving"
   ]
  },
  {
   "cell_type": "code",
   "execution_count": 31,
   "metadata": {},
   "outputs": [],
   "source": [
    "# Saving ab_class_member data\n",
    "# final.to_pickle(r'E:\\after_session_03_22\\data\\drug_class\\ab_drug_class_numbers.pkl')"
   ]
  }
 ],
 "metadata": {
  "kernelspec": {
   "display_name": "base",
   "language": "python",
   "name": "python3"
  },
  "language_info": {
   "codemirror_mode": {
    "name": "ipython",
    "version": 3
   },
   "file_extension": ".py",
   "mimetype": "text/x-python",
   "name": "python",
   "nbconvert_exporter": "python",
   "pygments_lexer": "ipython3",
   "version": "3.11.4"
  },
  "orig_nbformat": 4,
  "vscode": {
   "interpreter": {
    "hash": "3c06e3e46abf38078fe4dac36a0085ec2b134ebbd73dd076183d243eeca6918f"
   }
  }
 },
 "nbformat": 4,
 "nbformat_minor": 2
}
