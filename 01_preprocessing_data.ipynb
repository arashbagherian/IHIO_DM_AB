{
 "cells": [
  {
   "cell_type": "code",
   "execution_count": 1,
   "metadata": {},
   "outputs": [],
   "source": [
    "import pandas as pd\n",
    "import numpy as np\n",
    "import matplotlib.pyplot as plt\n",
    "import seaborn as sns"
   ]
  },
  {
   "cell_type": "markdown",
   "metadata": {},
   "source": [
    "## Opening Files and Merging"
   ]
  },
  {
   "cell_type": "code",
   "execution_count": null,
   "metadata": {},
   "outputs": [],
   "source": [
    "prescription = pd.read_pickle('../nosakh_ARASH.pkl')\n",
    "# Parsing dates\n",
    "prescription['date'] = pd.to_datetime(prescription['date'])\n",
    "prescription"
   ]
  },
  {
   "cell_type": "code",
   "execution_count": 3,
   "metadata": {},
   "outputs": [
    {
     "name": "stdout",
     "output_type": "stream",
     "text": [
      "<class 'pandas.core.frame.DataFrame'>\n",
      "Index: 60800 entries, 8488 to 60885400\n",
      "Data columns (total 13 columns):\n",
      " #   Column          Non-Null Count  Dtype         \n",
      "---  ------          --------------  -----         \n",
      " 0   date            60800 non-null  datetime64[ns]\n",
      " 1   member          60800 non-null  int64         \n",
      " 2   service         60800 non-null  int32         \n",
      " 3   quantity        60800 non-null  int16         \n",
      " 4   physician       60800 non-null  int32         \n",
      " 5   institute       60800 non-null  int32         \n",
      " 6   claimed         60800 non-null  int32         \n",
      " 7   deduction       60800 non-null  int32         \n",
      " 8   insurance_paid  60800 non-null  int32         \n",
      " 9   patient_paid    60800 non-null  int32         \n",
      " 10  fund            60800 non-null  int8          \n",
      " 11  province        60800 non-null  int8          \n",
      " 12  prescription    60800 non-null  int32         \n",
      "dtypes: datetime64[ns](1), int16(1), int32(8), int64(1), int8(2)\n",
      "memory usage: 3.5 MB\n"
     ]
    }
   ],
   "source": [
    "prescription.info()"
   ]
  },
  {
   "cell_type": "code",
   "execution_count": null,
   "metadata": {},
   "outputs": [],
   "source": [
    "physician = pd.read_pickle('../physician.pkl')\n",
    "physician"
   ]
  },
  {
   "cell_type": "code",
   "execution_count": 5,
   "metadata": {},
   "outputs": [
    {
     "name": "stdout",
     "output_type": "stream",
     "text": [
      "<class 'pandas.core.frame.DataFrame'>\n",
      "RangeIndex: 179532 entries, 0 to 179531\n",
      "Data columns (total 3 columns):\n",
      " #   Column        Non-Null Count   Dtype \n",
      "---  ------        --------------   ----- \n",
      " 0   physician     179532 non-null  int32 \n",
      " 1   specialty_fa  179532 non-null  object\n",
      " 2   specialty_en  179532 non-null  object\n",
      "dtypes: int32(1), object(2)\n",
      "memory usage: 3.4+ MB\n"
     ]
    }
   ],
   "source": [
    "physician.info()"
   ]
  },
  {
   "cell_type": "code",
   "execution_count": null,
   "metadata": {},
   "outputs": [],
   "source": [
    "# Merging specialty_en to prescription\n",
    "prescription_m_1 = prescription.merge(\n",
    "    physician[['physician', 'specialty_en']],\n",
    "    how='left',\n",
    "    on='physician'\n",
    ")\n",
    "prescription_m_1"
   ]
  },
  {
   "cell_type": "code",
   "execution_count": null,
   "metadata": {},
   "outputs": [],
   "source": [
    "profile = pd.read_pickle('../profile_ARASH.pkl')\n",
    "# Parsing birthdate\n",
    "profile['birthdate'] = pd.to_datetime(profile['birthdate'])\n",
    "profile"
   ]
  },
  {
   "cell_type": "code",
   "execution_count": 8,
   "metadata": {},
   "outputs": [
    {
     "name": "stdout",
     "output_type": "stream",
     "text": [
      "<class 'pandas.core.frame.DataFrame'>\n",
      "Index: 1000 entries, 84 to 6350019\n",
      "Data columns (total 7 columns):\n",
      " #   Column       Non-Null Count  Dtype         \n",
      "---  ------       --------------  -----         \n",
      " 0   member       1000 non-null   int64         \n",
      " 1   birthdate    1000 non-null   datetime64[ns]\n",
      " 2   gender       1000 non-null   int8          \n",
      " 3   disease      2 non-null      float64       \n",
      " 4   fund         1000 non-null   float64       \n",
      " 5   responsible  962 non-null    float64       \n",
      " 6   source       1000 non-null   int8          \n",
      "dtypes: datetime64[ns](1), float64(3), int64(1), int8(2)\n",
      "memory usage: 48.8 KB\n"
     ]
    }
   ],
   "source": [
    "profile.info()"
   ]
  },
  {
   "cell_type": "code",
   "execution_count": null,
   "metadata": {},
   "outputs": [],
   "source": [
    "# Merging birthdate and gender to prescription\n",
    "prescription_m_2 = prescription_m_1.merge(\n",
    "    profile[['member', 'birthdate', 'gender']],\n",
    "    how='left',\n",
    "    on='member'\n",
    ")\n",
    "prescription_m_2"
   ]
  },
  {
   "cell_type": "markdown",
   "metadata": {},
   "source": [
    "### Processing service before merging"
   ]
  },
  {
   "cell_type": "code",
   "execution_count": null,
   "metadata": {},
   "outputs": [],
   "source": [
    "service = pd.read_parquet('../service.parquet')\n",
    "service"
   ]
  },
  {
   "cell_type": "code",
   "execution_count": 11,
   "metadata": {},
   "outputs": [
    {
     "name": "stdout",
     "output_type": "stream",
     "text": [
      "<class 'pandas.core.frame.DataFrame'>\n",
      "RangeIndex: 3842 entries, 0 to 3841\n",
      "Data columns (total 15 columns):\n",
      " #   Column        Non-Null Count  Dtype  \n",
      "---  ------        --------------  -----  \n",
      " 0   service       3842 non-null   int32  \n",
      " 1   atc           3842 non-null   object \n",
      " 2   atc_1         3842 non-null   object \n",
      " 3   atc_2         3585 non-null   object \n",
      " 4   atc_3         3578 non-null   object \n",
      " 5   atc_4         3540 non-null   object \n",
      " 6   atc_5         3368 non-null   object \n",
      " 7   atc_name      3313 non-null   object \n",
      " 8   ihio_name     3842 non-null   object \n",
      " 9   generic_name  1708 non-null   object \n",
      " 10  route         1707 non-null   object \n",
      " 11  form          1707 non-null   object \n",
      " 12  str           1697 non-null   object \n",
      " 13  measure       1706 non-null   object \n",
      " 14  ddd           929 non-null    float64\n",
      "dtypes: float64(1), int32(1), object(13)\n",
      "memory usage: 435.4+ KB\n"
     ]
    }
   ],
   "source": [
    "service.info()"
   ]
  },
  {
   "cell_type": "code",
   "execution_count": 12,
   "metadata": {},
   "outputs": [],
   "source": [
    "# Labeling DM drugs and antibiotics in service for future merging with\n",
    "# prescription_m_2\n",
    "dm_atc_3 = ['A10A', 'A10B']\n",
    "ab_atc_2 = ['J01', 'J02', 'J04', 'J05']\n",
    "service['dm'] = service['atc_3'].isin(dm_atc_3)\n",
    "service['ab'] = service['atc_2'].isin(ab_atc_2)"
   ]
  },
  {
   "cell_type": "code",
   "execution_count": null,
   "metadata": {},
   "outputs": [],
   "source": [
    "service"
   ]
  },
  {
   "cell_type": "code",
   "execution_count": 14,
   "metadata": {},
   "outputs": [
    {
     "data": {
      "text/plain": [
       "(52, 17)"
      ]
     },
     "execution_count": 14,
     "metadata": {},
     "output_type": "execute_result"
    }
   ],
   "source": [
    "service.loc[service['dm']].shape"
   ]
  },
  {
   "cell_type": "code",
   "execution_count": 15,
   "metadata": {},
   "outputs": [
    {
     "data": {
      "text/plain": [
       "(304, 17)"
      ]
     },
     "execution_count": 15,
     "metadata": {},
     "output_type": "execute_result"
    }
   ],
   "source": [
    "service.loc[service['ab']].shape"
   ]
  },
  {
   "cell_type": "code",
   "execution_count": null,
   "metadata": {},
   "outputs": [],
   "source": [
    "# Merging (atc, dm, ab) from service to prescription_m_2 on service\n",
    "prescription_m_3 = prescription_m_2.merge(\n",
    "    service[['service', 'atc', 'dm', 'ab']],\n",
    "    how='left',\n",
    "    on='service'\n",
    ")\n",
    "prescription_m_3"
   ]
  },
  {
   "cell_type": "code",
   "execution_count": 17,
   "metadata": {},
   "outputs": [
    {
     "data": {
      "text/plain": [
       "1000"
      ]
     },
     "execution_count": 17,
     "metadata": {},
     "output_type": "execute_result"
    }
   ],
   "source": [
    "prescription_m_3.loc[prescription_m_3['dm'] | prescription_m_3['ab']]['member'].nunique()"
   ]
  },
  {
   "cell_type": "code",
   "execution_count": 18,
   "metadata": {},
   "outputs": [
    {
     "data": {
      "text/plain": [
       "1083"
      ]
     },
     "execution_count": 18,
     "metadata": {},
     "output_type": "execute_result"
    }
   ],
   "source": [
    "absent_physician = ~ prescription_m_3['physician'].isin(physician['physician'])\n",
    "absent_physician.sum()"
   ]
  },
  {
   "cell_type": "code",
   "execution_count": 19,
   "metadata": {},
   "outputs": [
    {
     "data": {
      "text/plain": [
       "177"
      ]
     },
     "execution_count": 19,
     "metadata": {},
     "output_type": "execute_result"
    }
   ],
   "source": [
    "prescription_m_3.loc[absent_physician, 'physician'].nunique()"
   ]
  },
  {
   "cell_type": "markdown",
   "metadata": {},
   "source": [
    "There are more physicians in the prescription data than in the physician dataframe."
   ]
  },
  {
   "cell_type": "markdown",
   "metadata": {},
   "source": [
    "### Merging DDD data from ab_service_final"
   ]
  },
  {
   "cell_type": "code",
   "execution_count": null,
   "metadata": {},
   "outputs": [],
   "source": [
    "ab_service_final = pd.read_csv('../ab_service_final.csv', index_col=0)\n",
    "ab_service_final['service'] = ab_service_final.index\n",
    "ab_service_final"
   ]
  },
  {
   "cell_type": "code",
   "execution_count": null,
   "metadata": {},
   "outputs": [],
   "source": [
    "# Merging (calc_ddd, recheck) from ab_service_final to prescription_m_3\n",
    "# on service\n",
    "prescription_m_4 = prescription_m_3.merge(\n",
    "    ab_service_final[['service', 'calc_ddd', 'recheck']],\n",
    "    how='left',\n",
    "    on='service'\n",
    ")\n",
    "prescription_m_4"
   ]
  },
  {
   "cell_type": "code",
   "execution_count": 22,
   "metadata": {},
   "outputs": [],
   "source": [
    "temp = prescription_m_4['claimed'] == prescription_m_4['insurance_paid']"
   ]
  },
  {
   "cell_type": "code",
   "execution_count": 23,
   "metadata": {},
   "outputs": [
    {
     "data": {
      "text/plain": [
       "969"
      ]
     },
     "execution_count": 23,
     "metadata": {},
     "output_type": "execute_result"
    }
   ],
   "source": [
    "prescription_m_4.shape[0] - temp.sum()"
   ]
  },
  {
   "cell_type": "markdown",
   "metadata": {},
   "source": [
    "The claimed and insurance_paid columns aren't the same."
   ]
  },
  {
   "cell_type": "code",
   "execution_count": 24,
   "metadata": {},
   "outputs": [
    {
     "data": {
      "text/plain": [
       "Index(['date', 'member', 'service', 'quantity', 'physician', 'institute',\n",
       "       'claimed', 'deduction', 'insurance_paid', 'patient_paid', 'fund',\n",
       "       'province', 'prescription', 'specialty_en', 'birthdate', 'gender',\n",
       "       'atc', 'dm', 'ab', 'calc_ddd', 'recheck'],\n",
       "      dtype='object')"
      ]
     },
     "execution_count": 24,
     "metadata": {},
     "output_type": "execute_result"
    }
   ],
   "source": [
    "prescription_m_4.columns"
   ]
  },
  {
   "cell_type": "code",
   "execution_count": 25,
   "metadata": {},
   "outputs": [
    {
     "data": {
      "text/plain": [
       "322"
      ]
     },
     "execution_count": 25,
     "metadata": {},
     "output_type": "execute_result"
    }
   ],
   "source": [
    "prescription_m_4['deduction'].nunique()"
   ]
  },
  {
   "cell_type": "code",
   "execution_count": 26,
   "metadata": {},
   "outputs": [
    {
     "name": "stdout",
     "output_type": "stream",
     "text": [
      "<class 'pandas.core.frame.DataFrame'>\n",
      "RangeIndex: 60800 entries, 0 to 60799\n",
      "Data columns (total 21 columns):\n",
      " #   Column          Non-Null Count  Dtype         \n",
      "---  ------          --------------  -----         \n",
      " 0   date            60800 non-null  datetime64[ns]\n",
      " 1   member          60800 non-null  int64         \n",
      " 2   service         60800 non-null  int32         \n",
      " 3   quantity        60800 non-null  int16         \n",
      " 4   physician       60800 non-null  int32         \n",
      " 5   institute       60800 non-null  int32         \n",
      " 6   claimed         60800 non-null  int32         \n",
      " 7   deduction       60800 non-null  int32         \n",
      " 8   insurance_paid  60800 non-null  int32         \n",
      " 9   patient_paid    60800 non-null  int32         \n",
      " 10  fund            60800 non-null  int8          \n",
      " 11  province        60800 non-null  int8          \n",
      " 12  prescription    60800 non-null  int32         \n",
      " 13  specialty_en    59717 non-null  object        \n",
      " 14  birthdate       60800 non-null  datetime64[ns]\n",
      " 15  gender          60800 non-null  int8          \n",
      " 16  atc             60800 non-null  object        \n",
      " 17  dm              60800 non-null  bool          \n",
      " 18  ab              60800 non-null  bool          \n",
      " 19  calc_ddd        6365 non-null   float64       \n",
      " 20  recheck         354 non-null    float64       \n",
      "dtypes: bool(2), datetime64[ns](2), float64(2), int16(1), int32(8), int64(1), int8(3), object(2)\n",
      "memory usage: 5.5+ MB\n"
     ]
    }
   ],
   "source": [
    "prescription_m_4.info()"
   ]
  },
  {
   "cell_type": "markdown",
   "metadata": {},
   "source": [
    "### Removing unwanted columns"
   ]
  },
  {
   "cell_type": "code",
   "execution_count": 27,
   "metadata": {},
   "outputs": [],
   "source": [
    "unwanted = ['physician', 'institute', 'claimed', 'fund']\n",
    "prescription_m_final = prescription_m_4.drop(unwanted, axis=1)"
   ]
  },
  {
   "cell_type": "code",
   "execution_count": null,
   "metadata": {},
   "outputs": [],
   "source": [
    "prescription_m_final"
   ]
  },
  {
   "cell_type": "code",
   "execution_count": 29,
   "metadata": {},
   "outputs": [
    {
     "name": "stdout",
     "output_type": "stream",
     "text": [
      "<class 'pandas.core.frame.DataFrame'>\n",
      "RangeIndex: 60800 entries, 0 to 60799\n",
      "Data columns (total 17 columns):\n",
      " #   Column          Non-Null Count  Dtype         \n",
      "---  ------          --------------  -----         \n",
      " 0   date            60800 non-null  datetime64[ns]\n",
      " 1   member          60800 non-null  int64         \n",
      " 2   service         60800 non-null  int32         \n",
      " 3   quantity        60800 non-null  int16         \n",
      " 4   deduction       60800 non-null  int32         \n",
      " 5   insurance_paid  60800 non-null  int32         \n",
      " 6   patient_paid    60800 non-null  int32         \n",
      " 7   province        60800 non-null  int8          \n",
      " 8   prescription    60800 non-null  int32         \n",
      " 9   specialty_en    59717 non-null  object        \n",
      " 10  birthdate       60800 non-null  datetime64[ns]\n",
      " 11  gender          60800 non-null  int8          \n",
      " 12  atc             60800 non-null  object        \n",
      " 13  dm              60800 non-null  bool          \n",
      " 14  ab              60800 non-null  bool          \n",
      " 15  calc_ddd        6365 non-null   float64       \n",
      " 16  recheck         354 non-null    float64       \n",
      "dtypes: bool(2), datetime64[ns](2), float64(2), int16(1), int32(5), int64(1), int8(2), object(2)\n",
      "memory usage: 4.8+ MB\n"
     ]
    }
   ],
   "source": [
    "prescription_m_final.info()"
   ]
  },
  {
   "cell_type": "markdown",
   "metadata": {},
   "source": [
    "## Saving the final dataframe\n",
    "It contains prescription data except ['physician', 'institute', 'claimed', 'fund'] columns. Plus (specialty_en) from physician and (birthdate, gender) from profile and (atc, dm, ab) from service and mask on that and (calc_ddd, recheck) from ab_service_final."
   ]
  },
  {
   "cell_type": "code",
   "execution_count": 30,
   "metadata": {},
   "outputs": [],
   "source": [
    "# prescription_m_final.to_csv('./prescription_merged_final.csv')"
   ]
  },
  {
   "cell_type": "markdown",
   "metadata": {},
   "source": [
    "## Sandbox"
   ]
  },
  {
   "cell_type": "code",
   "execution_count": null,
   "metadata": {},
   "outputs": [],
   "source": [
    "from statistics import mode\n",
    "\n",
    "temp = prescription.groupby(['member', 'prescription'])['province'].apply(lambda g: g.iloc[0])\n",
    "temp = pd.DataFrame(temp)\n",
    "temp"
   ]
  },
  {
   "cell_type": "code",
   "execution_count": null,
   "metadata": {},
   "outputs": [],
   "source": [
    "# temp['prescription'] = temp.index.get_level_values('prescription')\n",
    "temp.groupby('member')['province'].apply(mode)"
   ]
  },
  {
   "cell_type": "code",
   "execution_count": null,
   "metadata": {},
   "outputs": [],
   "source": [
    "temp"
   ]
  },
  {
   "cell_type": "code",
   "execution_count": 86,
   "metadata": {},
   "outputs": [
    {
     "data": {
      "text/plain": [
       "IntervalIndex([[1, 100], [101, 532], [533, 1000]], dtype='interval[int64, both]')"
      ]
     },
     "execution_count": 86,
     "metadata": {},
     "output_type": "execute_result"
    }
   ],
   "source": [
    "bins = pd.IntervalIndex.from_tuples([(1, 100), (101, 532), (533, 1000)], 'both')\n",
    "bins"
   ]
  },
  {
   "cell_type": "code",
   "execution_count": null,
   "metadata": {},
   "outputs": [],
   "source": [
    "pd.cut(prescription['quantity'], bins=bins)"
   ]
  },
  {
   "cell_type": "code",
   "execution_count": null,
   "metadata": {},
   "outputs": [],
   "source": [
    "prescription['quantity_cat'] = pd.cut(prescription['quantity'], bins=bins)\n",
    "prescription['quantity_cat']"
   ]
  },
  {
   "cell_type": "code",
   "execution_count": 91,
   "metadata": {},
   "outputs": [
    {
     "data": {
      "text/plain": [
       "IntervalIndex([[18, 24], [25, 34], [35, 44], [45, 54], [55, 64], [65, 74], [75, 95]], dtype='interval[int64, both]')"
      ]
     },
     "execution_count": 91,
     "metadata": {},
     "output_type": "execute_result"
    }
   ],
   "source": [
    "pd.IntervalIndex.from_tuples([\n",
    "    (18, 24),\n",
    "    (25, 34),\n",
    "    (35, 44),\n",
    "    (45, 54),\n",
    "    (55, 64),\n",
    "    (65, 74),\n",
    "    (75, 95)\n",
    "],\n",
    "    'both'\n",
    ")"
   ]
  }
 ],
 "metadata": {
  "kernelspec": {
   "display_name": "Python 3",
   "language": "python",
   "name": "python3"
  },
  "language_info": {
   "codemirror_mode": {
    "name": "ipython",
    "version": 3
   },
   "file_extension": ".py",
   "mimetype": "text/x-python",
   "name": "python",
   "nbconvert_exporter": "python",
   "pygments_lexer": "ipython3",
   "version": "3.10.5"
  }
 },
 "nbformat": 4,
 "nbformat_minor": 2
}
