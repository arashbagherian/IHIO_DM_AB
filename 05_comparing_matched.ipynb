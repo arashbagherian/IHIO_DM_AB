{
 "cells": [
  {
   "cell_type": "code",
   "execution_count": 1,
   "metadata": {},
   "outputs": [],
   "source": [
    "import pandas as pd\n",
    "import numpy as np\n",
    "import matplotlib.pyplot as plt\n",
    "import seaborn as sns"
   ]
  },
  {
   "cell_type": "code",
   "execution_count": 2,
   "metadata": {},
   "outputs": [],
   "source": [
    "part_dm = pd.read_pickle(r'C:\\Users\\a.bagherian\\Desktop\\working\\Diabetics Combined\\part1_dm_combined.pkl')"
   ]
  },
  {
   "cell_type": "code",
   "execution_count": 3,
   "metadata": {},
   "outputs": [],
   "source": [
    "# Importing ab_service\n",
    "ab_service = pd.read_csv('.\\\\ab_service_final.csv', index_col=0)"
   ]
  },
  {
   "cell_type": "code",
   "execution_count": 4,
   "metadata": {},
   "outputs": [],
   "source": [
    "ddd = ab_service['calc_ddd']"
   ]
  },
  {
   "cell_type": "code",
   "execution_count": 7,
   "metadata": {},
   "outputs": [
    {
     "data": {
      "text/plain": [
       "(240528,)"
      ]
     },
     "execution_count": 7,
     "metadata": {},
     "output_type": "execute_result"
    }
   ],
   "source": [
    "part_dm['member'].unique().shape"
   ]
  },
  {
   "cell_type": "code",
   "execution_count": 8,
   "metadata": {},
   "outputs": [
    {
     "name": "stderr",
     "output_type": "stream",
     "text": [
      "C:\\Users\\a.bagherian\\AppData\\Local\\Temp\\ipykernel_6048\\3359435875.py:4: SettingWithCopyWarning: \n",
      "A value is trying to be set on a copy of a slice from a DataFrame.\n",
      "Try using .loc[row_indexer,col_indexer] = value instead\n",
      "\n",
      "See the caveats in the documentation: https://pandas.pydata.org/pandas-docs/stable/user_guide/indexing.html#returning-a-view-versus-a-copy\n",
      "  part_dm_ab.loc[:, 'days'] = part_dm_ab['quantity'] * ddd[part_dm_ab['service']].values\n"
     ]
    }
   ],
   "source": [
    "# ab_mask is the services of part_dm that are ab\n",
    "ab_mask = part_dm['service'].isin(ddd.index)\n",
    "part_dm_ab = part_dm.loc[ab_mask]\n",
    "part_dm_ab.loc[:, 'days'] = part_dm_ab['quantity'] * ddd[part_dm_ab['service']].values"
   ]
  },
  {
   "cell_type": "code",
   "execution_count": null,
   "metadata": {},
   "outputs": [],
   "source": [
    "part_dm_ab"
   ]
  },
  {
   "cell_type": "code",
   "execution_count": 10,
   "metadata": {},
   "outputs": [
    {
     "data": {
      "text/plain": [
       "count    1.198457e+06\n",
       "mean     8.152347e+00\n",
       "std      9.851592e+00\n",
       "min      3.300000e-03\n",
       "25%      4.000000e+00\n",
       "50%      6.666000e+00\n",
       "75%      1.000000e+01\n",
       "max      5.510250e+03\n",
       "Name: days, dtype: float64"
      ]
     },
     "execution_count": 10,
     "metadata": {},
     "output_type": "execute_result"
    }
   ],
   "source": [
    "part_dm_ab['days'].describe()"
   ]
  },
  {
   "cell_type": "code",
   "execution_count": 11,
   "metadata": {},
   "outputs": [
    {
     "data": {
      "text/plain": [
       "count    196745.000000\n",
       "mean         49.659395\n",
       "std          71.241458\n",
       "min           0.003300\n",
       "25%          14.666500\n",
       "50%          30.167300\n",
       "75%          60.165600\n",
       "max        6557.741000\n",
       "Name: days, dtype: float64"
      ]
     },
     "execution_count": 11,
     "metadata": {},
     "output_type": "execute_result"
    }
   ],
   "source": [
    "# Calculating sum of days for each member.\n",
    "part_dm_ab.groupby('member')['days'].sum().describe()"
   ]
  },
  {
   "cell_type": "code",
   "execution_count": null,
   "metadata": {},
   "outputs": [],
   "source": [
    "sns.histplot(x=np.log10(part_dm_ab['days']), bins=20)\n",
    "plt.gca().set_title('log10 days for members in part1')\n",
    "plt.xticks(np.arange(-2.5, 4, 0.5))"
   ]
  },
  {
   "cell_type": "code",
   "execution_count": null,
   "metadata": {},
   "outputs": [],
   "source": [
    "# The sum of days for each dm patient.\n",
    "sns.histplot(x=np.log10(part_dm_ab.groupby('member')['days'].sum()), bins=20)"
   ]
  },
  {
   "cell_type": "code",
   "execution_count": 16,
   "metadata": {},
   "outputs": [],
   "source": [
    "# Non-dm-matched patients\n",
    "matched_sample = pd.read_pickle(r'C:\\Users\\a.bagherian\\Desktop\\working\\Matched Samples\\part1_matched_sample.pkl')"
   ]
  },
  {
   "cell_type": "code",
   "execution_count": null,
   "metadata": {},
   "outputs": [],
   "source": [
    "matched_sample"
   ]
  },
  {
   "cell_type": "code",
   "execution_count": 18,
   "metadata": {},
   "outputs": [],
   "source": [
    "part = pd.read_pickle(r'C:\\Users\\a.bagherian\\Desktop\\IHIO_share_A\\prescription\\part1.pkl')"
   ]
  },
  {
   "cell_type": "code",
   "execution_count": 19,
   "metadata": {},
   "outputs": [],
   "source": [
    "part_matched = part.loc[part['member'].isin(matched_sample['member'])]"
   ]
  },
  {
   "cell_type": "code",
   "execution_count": null,
   "metadata": {},
   "outputs": [],
   "source": [
    "part_matched"
   ]
  },
  {
   "cell_type": "code",
   "execution_count": 24,
   "metadata": {},
   "outputs": [
    {
     "name": "stderr",
     "output_type": "stream",
     "text": [
      "C:\\Users\\a.bagherian\\AppData\\Local\\Temp\\ipykernel_6048\\402557799.py:5: SettingWithCopyWarning: \n",
      "A value is trying to be set on a copy of a slice from a DataFrame.\n",
      "Try using .loc[row_indexer,col_indexer] = value instead\n",
      "\n",
      "See the caveats in the documentation: https://pandas.pydata.org/pandas-docs/stable/user_guide/indexing.html#returning-a-view-versus-a-copy\n",
      "  part_matched_ab.loc[:, 'days'] = part_matched_ab['quantity'] * ddd[part_matched_ab['service']].values\n"
     ]
    }
   ],
   "source": [
    "# Calculating the same statisitics for non-dm patients\n",
    "# ab_mask_n is the services of part_n that are ab\n",
    "ab_mask_n = part_matched['service'].isin(ddd.index)\n",
    "part_matched_ab = part_matched.loc[ab_mask_n]\n",
    "part_matched_ab.loc[:, 'days'] = part_matched_ab['quantity'] * ddd[part_matched_ab['service']].values"
   ]
  },
  {
   "cell_type": "code",
   "execution_count": null,
   "metadata": {},
   "outputs": [],
   "source": [
    "part_matched_ab"
   ]
  },
  {
   "cell_type": "code",
   "execution_count": 26,
   "metadata": {},
   "outputs": [
    {
     "data": {
      "text/plain": [
       "count    770430.000000\n",
       "mean          7.687362\n",
       "std          10.125108\n",
       "min           0.000800\n",
       "25%           3.750000\n",
       "50%           6.666000\n",
       "75%          10.000000\n",
       "max        5510.250000\n",
       "Name: days, dtype: float64"
      ]
     },
     "execution_count": 26,
     "metadata": {},
     "output_type": "execute_result"
    }
   ],
   "source": [
    "part_matched_ab['days'].describe()"
   ]
  },
  {
   "cell_type": "code",
   "execution_count": 27,
   "metadata": {},
   "outputs": [
    {
     "data": {
      "text/plain": [
       "count    177044.000000\n",
       "mean         33.452556\n",
       "std          51.866215\n",
       "min           0.003300\n",
       "25%           9.999600\n",
       "50%          19.999600\n",
       "75%          40.000000\n",
       "max        6557.741000\n",
       "Name: days, dtype: float64"
      ]
     },
     "execution_count": 27,
     "metadata": {},
     "output_type": "execute_result"
    }
   ],
   "source": [
    "part_matched_ab.groupby('member')['days'].sum().describe()"
   ]
  },
  {
   "cell_type": "code",
   "execution_count": null,
   "metadata": {},
   "outputs": [],
   "source": [
    "sns.histplot(x=np.log10(part_matched_ab['days']), bins=20)\n",
    "plt.gca().set_title('non-dm log10 days for members in part1 matched')\n",
    "plt.xticks(np.arange(-2.5, 4, 0.5))"
   ]
  },
  {
   "cell_type": "code",
   "execution_count": null,
   "metadata": {},
   "outputs": [],
   "source": [
    "# The sum of days for each non-dm patient.\n",
    "sns.histplot(x=np.log10(part_matched_ab.groupby('member')['days'].sum()), bins=20)"
   ]
  }
 ],
 "metadata": {
  "kernelspec": {
   "display_name": "base",
   "language": "python",
   "name": "python3"
  },
  "language_info": {
   "codemirror_mode": {
    "name": "ipython",
    "version": 3
   },
   "file_extension": ".py",
   "mimetype": "text/x-python",
   "name": "python",
   "nbconvert_exporter": "python",
   "pygments_lexer": "ipython3",
   "version": "3.11.4 | packaged by Anaconda, Inc. | (main, Jul  5 2023, 13:38:37) [MSC v.1916 64 bit (AMD64)]"
  },
  "orig_nbformat": 4,
  "vscode": {
   "interpreter": {
    "hash": "3c06e3e46abf38078fe4dac36a0085ec2b134ebbd73dd076183d243eeca6918f"
   }
  }
 },
 "nbformat": 4,
 "nbformat_minor": 2
}
