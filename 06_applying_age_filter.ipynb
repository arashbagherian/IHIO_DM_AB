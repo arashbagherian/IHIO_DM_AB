{
 "cells": [
  {
   "cell_type": "code",
   "execution_count": 3,
   "metadata": {},
   "outputs": [],
   "source": [
    "import pandas as pd\n",
    "import numpy as np\n",
    "import matplotlib.pyplot as plt\n",
    "import seaborn as sns\n",
    "import os\n",
    "from pathlib import Path"
   ]
  },
  {
   "cell_type": "code",
   "execution_count": 7,
   "metadata": {},
   "outputs": [],
   "source": [
    "Ages = Path(r'C:\\Users\\a.bagherian\\Desktop\\working\\Ages\\dm')"
   ]
  },
  {
   "cell_type": "code",
   "execution_count": 64,
   "metadata": {},
   "outputs": [],
   "source": [
    "def remove_ages(age_loc, lower=18, upper=95):\n",
    "    \n",
    "    # Importing\n",
    "    age = pd.read_csv(age_loc, index_col='member')\n",
    "\n",
    "    # Rounding\n",
    "    age = age.round()\n",
    "\n",
    "    # Removing unwanted ages and missing ages.\n",
    "    print(f'{lower=}, {upper=}')\n",
    "    to_delete = ((age < lower) | (age > upper)).values\n",
    "    to_delete = age.loc[to_delete].index\n",
    "    age = age.drop(age.loc[age.isna().values].index, axis=0)\n",
    "    age = age.drop(to_delete, axis=0)\n",
    "\n",
    "\n",
    "    return age"
   ]
  },
  {
   "cell_type": "code",
   "execution_count": 67,
   "metadata": {},
   "outputs": [
    {
     "name": "stdout",
     "output_type": "stream",
     "text": [
      "lower=18, upper=95\n",
      "lower=18, upper=95\n",
      "lower=18, upper=95\n",
      "lower=18, upper=95\n",
      "lower=18, upper=95\n",
      "lower=18, upper=95\n",
      "lower=18, upper=95\n",
      "lower=18, upper=95\n"
     ]
    }
   ],
   "source": [
    "for age_loc in os.listdir(Ages):\n",
    "    age_loc = Ages / age_loc\n",
    "    age = remove_ages(age_loc)\n",
    "    loc = Ages / (age_loc.stem + '_18_95.csv')\n",
    "    age.to_csv(loc)"
   ]
  },
  {
   "attachments": {},
   "cell_type": "markdown",
   "metadata": {},
   "source": [
    "## Removing unwanted ages from the whole data"
   ]
  },
  {
   "cell_type": "code",
   "execution_count": 39,
   "metadata": {},
   "outputs": [
    {
     "data": {
      "text/plain": [
       "['part1_dm_combined.pkl',\n",
       " 'part2_dm_combined.pkl',\n",
       " 'part3_dm_combined.pkl',\n",
       " 'part4_dm_combined.pkl',\n",
       " 'part5_dm_combined.pkl',\n",
       " 'part6_dm_combined.pkl',\n",
       " 'part7_dm_combined.pkl',\n",
       " 'part8_dm_combined.pkl']"
      ]
     },
     "execution_count": 39,
     "metadata": {},
     "output_type": "execute_result"
    }
   ],
   "source": [
    "Diabetics_Combined = Path(r'C:\\Users\\a.bagherian\\Desktop\\working\\Diabetics Combined')\n",
    "os.listdir(Diabetics_Combined)"
   ]
  },
  {
   "cell_type": "code",
   "execution_count": 78,
   "metadata": {},
   "outputs": [],
   "source": [
    "def remove_ages_data(part_loc, age_loc, lower=18, upper=95):\n",
    "    \n",
    "    # Importing\n",
    "    part = pd.read_pickle(part_loc)\n",
    "    age = pd.read_csv(age_loc, index_col='member')\n",
    "\n",
    "    # Removing\n",
    "    print(f'{lower=}, {upper=}')\n",
    "    want = age.index\n",
    "    to_delete = part.loc[~ part['member'].isin(want)].index\n",
    "    part = part.drop(to_delete, axis=0)\n",
    "\n",
    "\n",
    "\n",
    "    return part"
   ]
  },
  {
   "cell_type": "code",
   "execution_count": 90,
   "metadata": {},
   "outputs": [
    {
     "name": "stdout",
     "output_type": "stream",
     "text": [
      "lower=18, upper=95\n",
      "lower=18, upper=95\n",
      "lower=18, upper=95\n",
      "lower=18, upper=95\n",
      "lower=18, upper=95\n",
      "lower=18, upper=95\n",
      "lower=18, upper=95\n",
      "lower=18, upper=95\n"
     ]
    }
   ],
   "source": [
    "for part_loc, age_loc in zip(os.listdir(Diabetics_Combined), os.listdir(Ages_18_95)):\n",
    "\n",
    "    age_loc = Ages_18_95 / age_loc\n",
    "\n",
    "    part_loc = Diabetics_Combined / part_loc\n",
    "    destination = Diabetics_Combined_18_95 / (part_loc.stem + '_18_95.pkl')\n",
    "    part = remove_ages_data(part_loc, age_loc)\n",
    "    part.to_pickle(destination)"
   ]
  },
  {
   "cell_type": "code",
   "execution_count": 91,
   "metadata": {},
   "outputs": [
    {
     "data": {
      "text/html": [
       "<div>\n",
       "<style scoped>\n",
       "    .dataframe tbody tr th:only-of-type {\n",
       "        vertical-align: middle;\n",
       "    }\n",
       "\n",
       "    .dataframe tbody tr th {\n",
       "        vertical-align: top;\n",
       "    }\n",
       "\n",
       "    .dataframe thead th {\n",
       "        text-align: right;\n",
       "    }\n",
       "</style>\n",
       "<table border=\"1\" class=\"dataframe\">\n",
       "  <thead>\n",
       "    <tr style=\"text-align: right;\">\n",
       "      <th></th>\n",
       "      <th>age</th>\n",
       "    </tr>\n",
       "  </thead>\n",
       "  <tbody>\n",
       "    <tr>\n",
       "      <th>count</th>\n",
       "      <td>232926.000000</td>\n",
       "    </tr>\n",
       "    <tr>\n",
       "      <th>mean</th>\n",
       "      <td>52.556125</td>\n",
       "    </tr>\n",
       "    <tr>\n",
       "      <th>std</th>\n",
       "      <td>16.168314</td>\n",
       "    </tr>\n",
       "    <tr>\n",
       "      <th>min</th>\n",
       "      <td>18.000000</td>\n",
       "    </tr>\n",
       "    <tr>\n",
       "      <th>25%</th>\n",
       "      <td>41.000000</td>\n",
       "    </tr>\n",
       "    <tr>\n",
       "      <th>50%</th>\n",
       "      <td>53.000000</td>\n",
       "    </tr>\n",
       "    <tr>\n",
       "      <th>75%</th>\n",
       "      <td>64.000000</td>\n",
       "    </tr>\n",
       "    <tr>\n",
       "      <th>max</th>\n",
       "      <td>95.000000</td>\n",
       "    </tr>\n",
       "  </tbody>\n",
       "</table>\n",
       "</div>"
      ],
      "text/plain": [
       "                 age\n",
       "count  232926.000000\n",
       "mean       52.556125\n",
       "std        16.168314\n",
       "min        18.000000\n",
       "25%        41.000000\n",
       "50%        53.000000\n",
       "75%        64.000000\n",
       "max        95.000000"
      ]
     },
     "execution_count": 91,
     "metadata": {},
     "output_type": "execute_result"
    }
   ],
   "source": [
    "age = pd.read_csv(age_loc, index_col='member')\n",
    "age.loc[part['member'].unique()].describe()"
   ]
  }
 ],
 "metadata": {
  "kernelspec": {
   "display_name": "base",
   "language": "python",
   "name": "python3"
  },
  "language_info": {
   "codemirror_mode": {
    "name": "ipython",
    "version": 3
   },
   "file_extension": ".py",
   "mimetype": "text/x-python",
   "name": "python",
   "nbconvert_exporter": "python",
   "pygments_lexer": "ipython3",
   "version": "3.11.4"
  },
  "orig_nbformat": 4,
  "vscode": {
   "interpreter": {
    "hash": "3c06e3e46abf38078fe4dac36a0085ec2b134ebbd73dd076183d243eeca6918f"
   }
  }
 },
 "nbformat": 4,
 "nbformat_minor": 2
}
