{
 "cells": [
  {
   "cell_type": "code",
   "execution_count": 201,
   "metadata": {},
   "outputs": [],
   "source": [
    "import pandas as pd\n",
    "import numpy as np\n",
    "import matplotlib.pyplot as plt\n",
    "import seaborn as sns"
   ]
  },
  {
   "cell_type": "code",
   "execution_count": 202,
   "metadata": {},
   "outputs": [],
   "source": [
    "import datetime as dt"
   ]
  },
  {
   "cell_type": "code",
   "execution_count": 203,
   "metadata": {},
   "outputs": [
    {
     "name": "stdout",
     "output_type": "stream",
     "text": [
      "<class 'pandas.core.frame.DataFrame'>\n",
      "Index: 60800 entries, 0 to 60799\n",
      "Data columns (total 17 columns):\n",
      " #   Column          Non-Null Count  Dtype         \n",
      "---  ------          --------------  -----         \n",
      " 0   date            60800 non-null  datetime64[ns]\n",
      " 1   member          60800 non-null  int64         \n",
      " 2   service         60800 non-null  int64         \n",
      " 3   quantity        60800 non-null  int64         \n",
      " 4   deduction       60800 non-null  int64         \n",
      " 5   insurance_paid  60800 non-null  int64         \n",
      " 6   patient_paid    60800 non-null  int64         \n",
      " 7   province        60800 non-null  int64         \n",
      " 8   prescription    60800 non-null  int64         \n",
      " 9   specialty_en    59717 non-null  object        \n",
      " 10  birthdate       60800 non-null  datetime64[ns]\n",
      " 11  gender          60800 non-null  int64         \n",
      " 12  atc             60800 non-null  object        \n",
      " 13  dm              60800 non-null  bool          \n",
      " 14  ab              60800 non-null  bool          \n",
      " 15  calc_ddd        6365 non-null   float64       \n",
      " 16  recheck         354 non-null    float64       \n",
      "dtypes: bool(2), datetime64[ns](2), float64(2), int64(9), object(2)\n",
      "memory usage: 7.5+ MB\n"
     ]
    }
   ],
   "source": [
    "df = pd.read_csv('./prescription_merged_final.csv',\n",
    "                 index_col=0,\n",
    "                 parse_dates=['date', 'birthdate']\n",
    ")\n",
    "df.info()"
   ]
  },
  {
   "cell_type": "code",
   "execution_count": null,
   "metadata": {},
   "outputs": [],
   "source": [
    "df"
   ]
  },
  {
   "cell_type": "markdown",
   "metadata": {},
   "source": [
    "## Calculating days of usage"
   ]
  },
  {
   "cell_type": "code",
   "execution_count": null,
   "metadata": {},
   "outputs": [],
   "source": [
    "ab_df = df.loc[df['ab']].copy()\n",
    "ab_df"
   ]
  },
  {
   "cell_type": "markdown",
   "metadata": {},
   "source": [
    "Creating ab_duration as the duration of prescribed antibiotic in days."
   ]
  },
  {
   "cell_type": "code",
   "execution_count": 206,
   "metadata": {},
   "outputs": [],
   "source": [
    "ab_df.loc[:, 'ab_duration'] = pd.to_timedelta(\n",
    "    ab_df['quantity'] * ab_df['calc_ddd'], unit='day'\n",
    ")"
   ]
  },
  {
   "cell_type": "code",
   "execution_count": null,
   "metadata": {},
   "outputs": [],
   "source": [
    "ab_df"
   ]
  },
  {
   "cell_type": "markdown",
   "metadata": {},
   "source": [
    "Creating date_end as the end of the prescribed antibiotic duration."
   ]
  },
  {
   "cell_type": "code",
   "execution_count": null,
   "metadata": {},
   "outputs": [],
   "source": [
    "ab_df.loc[:, 'end_date'] = ab_df['date'] + ab_df['ab_duration']\n",
    "ab_df"
   ]
  },
  {
   "cell_type": "markdown",
   "metadata": {},
   "source": [
    "Grouping by member and sorting by date.\\\n",
    "The groupby is probably not useful."
   ]
  },
  {
   "cell_type": "code",
   "execution_count": 209,
   "metadata": {},
   "outputs": [],
   "source": [
    "ab_df_date = ab_df[['member', 'prescription', 'date', 'end_date']].copy()"
   ]
  },
  {
   "cell_type": "code",
   "execution_count": null,
   "metadata": {},
   "outputs": [],
   "source": [
    "ab_df_date.sort_values(by=['member', 'date'], inplace=True, ignore_index=True)\n",
    "ab_df_date"
   ]
  },
  {
   "cell_type": "code",
   "execution_count": null,
   "metadata": {},
   "outputs": [],
   "source": [
    "ab_df_date['is_same'] = ab_df_date['member'] == ab_df_date.shift(1)['member']\n",
    "ab_df_date"
   ]
  },
  {
   "cell_type": "code",
   "execution_count": 268,
   "metadata": {},
   "outputs": [],
   "source": [
    "combine_period = 90\n",
    "combined_duration = {m: [] for m in ab_df_date['member'].unique()}\n",
    "combined_duration['first'] = []\n",
    "duration = dt.timedelta(days=0)\n",
    "start = None\n",
    "end = None\n",
    "member = 'first'\n",
    "for i, row in ab_df_date.iterrows():\n",
    "\n",
    "    if not row['is_same']:\n",
    "        # Saving duration for previous member\n",
    "        combined_duration[member].append((i, duration))\n",
    "        # Setting variables for new member\n",
    "        member = row['member']\n",
    "        start = row['date']\n",
    "        end = row['end_date']\n",
    "        duration = end - start\n",
    "    elif (row['date'] - end) <= dt.timedelta(days=combine_period):\n",
    "        # Setting the new end for period\n",
    "        if row['end_date'] > end:\n",
    "            end = row['end_date']\n",
    "            duration = end - start\n",
    "    else:\n",
    "        # Setting start and end for new reference point\n",
    "        start = row['date']\n",
    "        end = row['end_date']\n",
    "        # Saving duration as the period has ended\n",
    "        combined_duration[member].append((i, duration))"
   ]
  },
  {
   "cell_type": "markdown",
   "metadata": {},
   "source": [
    "Some durations might be duplicates I think. Don't rely on them. You rely on the min and max of the durations though. The number of duration duplicates are low if any."
   ]
  },
  {
   "cell_type": "code",
   "execution_count": 269,
   "metadata": {},
   "outputs": [],
   "source": [
    "# Removing i from combined durations\n",
    "simple_durations = dict()\n",
    "for member, ls_d in combined_duration.items():\n",
    "    new_ls_d = []\n",
    "    for i, duration in ls_d:\n",
    "        new_ls_d.append(duration)\n",
    "    simple_durations[member] = new_ls_d"
   ]
  },
  {
   "cell_type": "code",
   "execution_count": 270,
   "metadata": {},
   "outputs": [
    {
     "data": {
      "text/plain": [
       "312"
      ]
     },
     "execution_count": 270,
     "metadata": {},
     "output_type": "execute_result"
    }
   ],
   "source": [
    "# Saving the chronic members to a list\n",
    "chronic_period = 90\n",
    "chronic_members = set()\n",
    "for member, ls_d in simple_durations.items():\n",
    "    for duration in ls_d:\n",
    "        if duration >= dt.timedelta(days=chronic_period):\n",
    "            chronic_members.add(member)\n",
    "len(chronic_members)"
   ]
  },
  {
   "cell_type": "markdown",
   "metadata": {},
   "source": [
    "I now realized that I could have done more of the work by vectorization. I could use a window period 0f like 90 days and if in any day there was AB prescribed, I would have set a column to true."
   ]
  }
 ],
 "metadata": {
  "kernelspec": {
   "display_name": "Python 3",
   "language": "python",
   "name": "python3"
  },
  "language_info": {
   "codemirror_mode": {
    "name": "ipython",
    "version": 3
   },
   "file_extension": ".py",
   "mimetype": "text/x-python",
   "name": "python",
   "nbconvert_exporter": "python",
   "pygments_lexer": "ipython3",
   "version": "3.10.5"
  }
 },
 "nbformat": 4,
 "nbformat_minor": 2
}
